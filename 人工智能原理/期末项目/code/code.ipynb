{
 "cells": [
  {
   "cell_type": "code",
   "execution_count": 4,
   "metadata": {},
   "outputs": [],
   "source": [
    "from rouge import Rouge\n",
    "import numpy as np\n",
    "from gensim.models.keyedvectors import KeyedVectors\n",
    "from tqdm import tqdm_notebook\n",
    "from sklearn.cluster import KMeans\n",
    "from sklearn.metrics import pairwise_distances_argmin_min\n",
    "%matplotlib inline"
   ]
  },
  {
   "cell_type": "markdown",
   "metadata": {},
   "source": [
    "## 数据预处理"
   ]
  },
  {
   "cell_type": "markdown",
   "metadata": {},
   "source": [
    "数据处理参考https://github.com/becxer/cnn-dailymail/ ，对源代码做了修改让代码输出txt文件，相应代码在./data/cnn-dailymail中"
   ]
  },
  {
   "cell_type": "markdown",
   "metadata": {},
   "source": [
    "将标点符号去掉"
   ]
  },
  {
   "cell_type": "code",
   "execution_count": 3,
   "metadata": {},
   "outputs": [],
   "source": [
    "stop_words = {\"-lrb-\", \"-rrb-\", \"-\"}"
   ]
  },
  {
   "cell_type": "code",
   "execution_count": 4,
   "metadata": {},
   "outputs": [],
   "source": [
    "data_dir = \"./data/cnn-dailymail/finished_files/test.txt\""
   ]
  },
  {
   "cell_type": "code",
   "execution_count": 5,
   "metadata": {},
   "outputs": [],
   "source": [
    "punctuation = \"'!\\\"#$%&\\'()*+,-/:;<=>?@[\\\\]^_`{|}~'.\" \n",
    "\n",
    "def get_xy_tuple(content, summary):\n",
    "    x = read_content(content)\n",
    "    y = read_summary(summary)\n",
    "\n",
    "    if x != None and y != None:\n",
    "        return (x, y)\n",
    "    else:\n",
    "        return None\n",
    "    \n",
    "def read_summary(summary):\n",
    "    summary = summary.replace(\"<s>\", \"\")\n",
    "    summary = summary.replace(\"</s>\", \"\")\n",
    "    summary = remove_punctuations(summary)\n",
    "#     summary = summary.split()\n",
    "#     words = [word for word in summary if word not in stop_words]\n",
    "    return summary\n",
    "    \n",
    "def read_content(content):\n",
    "    content = remove_punctuations(content)\n",
    "#     content = content.split()\n",
    "#     words = [word for word in content if word not in stop_words]\n",
    "    return content\n",
    "\n",
    "def remove_punctuations(doc):\n",
    "    if isinstance(doc, str):\n",
    "        return doc.translate(str.maketrans('', '', punctuation))\n",
    "    elif isinstance(doc, list):\n",
    "        return [line.translate(str.maketrans('', '', punctuation)) for line in doc]\n",
    "\n",
    "lines = []\n",
    "x = []\n",
    "with open(data_dir) as f:\n",
    "    for line in f:\n",
    "        line = line.strip(\"\\n\")\n",
    "        if line.startswith(\"<s>\"):\n",
    "            y = line\n",
    "        elif line.endswith(\"</content>\"):\n",
    "            xy_tuple = get_xy_tuple(x,y)\n",
    "            x = []\n",
    "            if xy_tuple != None:\n",
    "                lines.append(xy_tuple)\n",
    "        elif line.startswith(\"<content>\"):\n",
    "            x.append(line[9:])\n",
    "        else:\n",
    "            x.append(line)"
   ]
  },
  {
   "cell_type": "markdown",
   "metadata": {},
   "source": [
    "## 获取句向量"
   ]
  },
  {
   "cell_type": "markdown",
   "metadata": {},
   "source": [
    "通过word2vec平均或者用tfidf加权平均的方式得到句向量"
   ]
  },
  {
   "cell_type": "markdown",
   "metadata": {},
   "source": [
    "word2vec模型使用谷歌在GoogleNews上训练的模型，可见https://code.google.com/archive/p/word2vec/\n",
    "下载地址：https://drive.google.com/file/d/0B7XkCwpI5KDYNlNUTTlSS21pQmM/edit"
   ]
  },
  {
   "cell_type": "code",
   "execution_count": null,
   "metadata": {},
   "outputs": [],
   "source": [
    "word2vec = KeyedVectors.load_word2vec_format(\n",
    "    './data/GoogleNews-vectors-negative300.bin', binary=True, limit=300000)"
   ]
  },
  {
   "cell_type": "code",
   "execution_count": 7,
   "metadata": {},
   "outputs": [
    {
     "name": "stdout",
     "output_type": "stream",
     "text": [
      "vocab size : 57857\n"
     ]
    }
   ],
   "source": [
    "from sklearn.feature_extraction.text import TfidfVectorizer\n",
    "\n",
    "a = [\"\".join(line[0]) for line in lines]\n",
    "\n",
    "vectorizer = TfidfVectorizer(min_df=2)\n",
    "X = vectorizer.fit_transform(a)\n",
    "tfidf = dict(zip(vectorizer.get_feature_names(), vectorizer.idf_))\n",
    "print('vocab size :', len(tfidf))"
   ]
  },
  {
   "cell_type": "markdown",
   "metadata": {},
   "source": [
    "### 平均词向量"
   ]
  },
  {
   "cell_type": "code",
   "execution_count": 6,
   "metadata": {},
   "outputs": [],
   "source": [
    "def sentence2vec(sentences):\n",
    "    res = []\n",
    "    for sentence in sentences:\n",
    "        vec = np.zeros((300,))\n",
    "        num_word = 0\n",
    "        for word in sentence.split():\n",
    "            if word not in stop_words and word in word2vec:\n",
    "                num_word += 1\n",
    "                vec += word2vec[word]\n",
    "        if num_word:\n",
    "            res.append(vec/num_word)\n",
    "    return res"
   ]
  },
  {
   "cell_type": "markdown",
   "metadata": {},
   "source": [
    "### TF-IDF加权"
   ]
  },
  {
   "cell_type": "code",
   "execution_count": 7,
   "metadata": {},
   "outputs": [],
   "source": [
    "def tfidfVec(sentences, tfidf):\n",
    "    res = []\n",
    "    for sentence in sentences:\n",
    "        vec = np.zeros((300,))\n",
    "        num_word = 0\n",
    "        for word in sentence.split():\n",
    "            if word not in stop_words and word in word2vec and word in tfidf:\n",
    "                num_word += 1\n",
    "                vec += word2vec[word] * tfidf[word]\n",
    "        if num_word:\n",
    "            res.append(vec/num_word)\n",
    "    return res"
   ]
  },
  {
   "cell_type": "markdown",
   "metadata": {},
   "source": [
    "### InferSent"
   ]
  },
  {
   "cell_type": "markdown",
   "metadata": {},
   "source": [
    "InferSent使用的词嵌入和训练所得的模型参数下载地址如下"
   ]
  },
  {
   "cell_type": "markdown",
   "metadata": {},
   "source": [
    "Glove：http://nlp.stanford.edu/data/glove.840B.300d.zip \n",
    "\n",
    "fastText：https://dl.fbaipublicfiles.com/fasttext/vectors-english/crawl-300d-2M.vec.zip \n",
    "\n",
    "Glove model：https://dl.fbaipublicfiles.com/infersent/infersent1.pkl \n",
    "\n",
    "fastText model：https://dl.fbaipublicfiles.com/infersent/infersent2.pkl "
   ]
  },
  {
   "cell_type": "code",
   "execution_count": 3,
   "metadata": {},
   "outputs": [],
   "source": [
    "import numpy as np\n",
    "import time\n",
    "\n",
    "import torch\n",
    "import torch.nn as nn\n",
    "\n",
    "\n",
    "class InferSent(nn.Module):\n",
    "\n",
    "    def __init__(self, config):\n",
    "        super(InferSent, self).__init__()\n",
    "        self.bsize = config['bsize']\n",
    "        self.word_emb_dim = config['word_emb_dim']\n",
    "        self.enc_lstm_dim = config['enc_lstm_dim']\n",
    "        self.pool_type = config['pool_type']\n",
    "        self.dpout_model = config['dpout_model']\n",
    "        self.version = 1 if 'version' not in config else config['version']\n",
    "\n",
    "        self.enc_lstm = nn.LSTM(self.word_emb_dim, self.enc_lstm_dim, 1,\n",
    "                                bidirectional=True, dropout=self.dpout_model)\n",
    "\n",
    "        assert self.version in [1, 2]\n",
    "        if self.version == 1:\n",
    "            self.bos = '<s>'\n",
    "            self.eos = '</s>'\n",
    "            self.max_pad = True\n",
    "            self.moses_tok = False\n",
    "        elif self.version == 2:\n",
    "            self.bos = '<p>'\n",
    "            self.eos = '</p>'\n",
    "            self.max_pad = False\n",
    "            self.moses_tok = True\n",
    "\n",
    "    def is_cuda(self):\n",
    "        # either all weights are on cpu or they are on gpu\n",
    "        return self.enc_lstm.bias_hh_l0.data.is_cuda\n",
    "\n",
    "    def forward(self, sent_tuple):\n",
    "        # sent_len: [max_len, ..., min_len] (bsize)\n",
    "        # sent: (seqlen x bsize x worddim)\n",
    "        sent, sent_len = sent_tuple\n",
    "\n",
    "        # Sort by length (keep idx)\n",
    "        sent_len_sorted, idx_sort = np.sort(sent_len)[::-1], np.argsort(-sent_len)\n",
    "        sent_len_sorted = sent_len_sorted.copy()\n",
    "        idx_unsort = np.argsort(idx_sort)\n",
    "\n",
    "        idx_sort = torch.from_numpy(idx_sort).cuda() if self.is_cuda() \\\n",
    "            else torch.from_numpy(idx_sort)\n",
    "        sent = sent.index_select(1, idx_sort)\n",
    "\n",
    "        # Handling padding in Recurrent Networks\n",
    "        sent_packed = nn.utils.rnn.pack_padded_sequence(sent, sent_len_sorted)\n",
    "        sent_output = self.enc_lstm(sent_packed)[0]  # seqlen x batch x 2*nhid\n",
    "        sent_output = nn.utils.rnn.pad_packed_sequence(sent_output)[0]\n",
    "\n",
    "        # Un-sort by length\n",
    "        idx_unsort = torch.from_numpy(idx_unsort).cuda() if self.is_cuda() \\\n",
    "            else torch.from_numpy(idx_unsort)\n",
    "        sent_output = sent_output.index_select(1, idx_unsort)\n",
    "\n",
    "        # Pooling\n",
    "        if self.pool_type == \"mean\":\n",
    "            sent_len = torch.FloatTensor(sent_len.copy()).unsqueeze(1).cuda()\n",
    "            emb = torch.sum(sent_output, 0).squeeze(0)\n",
    "            emb = emb / sent_len.expand_as(emb)\n",
    "        elif self.pool_type == \"max\":\n",
    "            if not self.max_pad:\n",
    "                sent_output[sent_output == 0] = -1e9\n",
    "            emb = torch.max(sent_output, 0)[0]\n",
    "            if emb.ndimension() == 3:\n",
    "                emb = emb.squeeze(0)\n",
    "                assert emb.ndimension() == 2\n",
    "\n",
    "        return emb\n",
    "\n",
    "    def set_w2v_path(self, w2v_path):\n",
    "        self.w2v_path = w2v_path\n",
    "\n",
    "    def get_word_dict(self, sentences, tokenize=True):\n",
    "        # create vocab of words\n",
    "        word_dict = {}\n",
    "        sentences = [s.split() if not tokenize else self.tokenize(s) for s in sentences]\n",
    "        for sent in sentences:\n",
    "            for word in sent:\n",
    "                if word not in word_dict:\n",
    "                    word_dict[word] = ''\n",
    "        word_dict[self.bos] = ''\n",
    "        word_dict[self.eos] = ''\n",
    "        return word_dict\n",
    "\n",
    "    def get_w2v(self, word_dict):\n",
    "        assert hasattr(self, 'w2v_path'), 'w2v path not set'\n",
    "        # create word_vec with w2v vectors\n",
    "        word_vec = {}\n",
    "        with open(self.w2v_path, encoding='utf-8') as f:\n",
    "            for line in f:\n",
    "                word, vec = line.split(' ', 1)\n",
    "                if word in word_dict:\n",
    "                    word_vec[word] = np.fromstring(vec, sep=' ')\n",
    "        print('Found %s(/%s) words with w2v vectors' % (len(word_vec), len(word_dict)))\n",
    "        return word_vec\n",
    "\n",
    "    def get_w2v_k(self, K):\n",
    "        assert hasattr(self, 'w2v_path'), 'w2v path not set'\n",
    "        # create word_vec with k first w2v vectors\n",
    "        k = 0\n",
    "        word_vec = {}\n",
    "        with open(self.w2v_path, encoding='utf-8') as f:\n",
    "            for line in f:\n",
    "                word, vec = line.split(' ', 1)\n",
    "                if k <= K:\n",
    "                    word_vec[word] = np.fromstring(vec, sep=' ')\n",
    "                    k += 1\n",
    "                if k > K:\n",
    "                    if word in [self.bos, self.eos]:\n",
    "                        word_vec[word] = np.fromstring(vec, sep=' ')\n",
    "\n",
    "                if k > K and all([w in word_vec for w in [self.bos, self.eos]]):\n",
    "                    break\n",
    "        return word_vec\n",
    "\n",
    "    def build_vocab(self, sentences, tokenize=True):\n",
    "        assert hasattr(self, 'w2v_path'), 'w2v path not set'\n",
    "        word_dict = self.get_word_dict(sentences, tokenize)\n",
    "        self.word_vec = self.get_w2v(word_dict)\n",
    "        print('Vocab size : %s' % (len(self.word_vec)))\n",
    "\n",
    "    # build w2v vocab with k most frequent words\n",
    "    def build_vocab_k_words(self, K):\n",
    "        assert hasattr(self, 'w2v_path'), 'w2v path not set'\n",
    "        self.word_vec = self.get_w2v_k(K)\n",
    "        print('Vocab size : %s' % (K))\n",
    "\n",
    "    def update_vocab(self, sentences, tokenize=True):\n",
    "        assert hasattr(self, 'w2v_path'), 'warning : w2v path not set'\n",
    "        assert hasattr(self, 'word_vec'), 'build_vocab before updating it'\n",
    "        word_dict = self.get_word_dict(sentences, tokenize)\n",
    "\n",
    "        # keep only new words\n",
    "        for word in self.word_vec:\n",
    "            if word in word_dict:\n",
    "                del word_dict[word]\n",
    "\n",
    "        # udpate vocabulary\n",
    "        if word_dict:\n",
    "            new_word_vec = self.get_w2v(word_dict)\n",
    "            self.word_vec.update(new_word_vec)\n",
    "        else:\n",
    "            new_word_vec = []\n",
    "        print('New vocab size : %s (added %s words)'% (len(self.word_vec), len(new_word_vec)))\n",
    "\n",
    "    def get_batch(self, batch):\n",
    "        # sent in batch in decreasing order of lengths\n",
    "        # batch: (bsize, max_len, word_dim)\n",
    "        embed = np.zeros((len(batch[0]), len(batch), self.word_emb_dim))\n",
    "\n",
    "        for i in range(len(batch)):\n",
    "            for j in range(len(batch[i])):\n",
    "                embed[j, i, :] = self.word_vec[batch[i][j]]\n",
    "\n",
    "        return torch.FloatTensor(embed)\n",
    "\n",
    "    def tokenize(self, s):\n",
    "        from nltk.tokenize import word_tokenize\n",
    "        if self.moses_tok:\n",
    "            s = ' '.join(word_tokenize(s))\n",
    "            s = s.replace(\" n't \", \"n 't \")  # HACK to get ~MOSES tokenization\n",
    "            return s.split()\n",
    "        else:\n",
    "            return word_tokenize(s)\n",
    "\n",
    "    def prepare_samples(self, sentences, bsize, tokenize, verbose):\n",
    "        sentences = [[self.bos] + s.split() + [self.eos] if not tokenize else\n",
    "                     [self.bos] + self.tokenize(s) + [self.eos] for s in sentences]\n",
    "        n_w = np.sum([len(x) for x in sentences])\n",
    "\n",
    "        # filters words without w2v vectors\n",
    "        for i in range(len(sentences)):\n",
    "            s_f = [word for word in sentences[i] if word in self.word_vec]\n",
    "            if not s_f:\n",
    "                import warnings\n",
    "                warnings.warn('No words in \"%s\" (idx=%s) have w2v vectors. \\\n",
    "                               Replacing by \"</s>\"..' % (sentences[i], i))\n",
    "                s_f = [self.eos]\n",
    "            sentences[i] = s_f\n",
    "\n",
    "        lengths = np.array([len(s) for s in sentences])\n",
    "        n_wk = np.sum(lengths)\n",
    "        if verbose:\n",
    "            print('Nb words kept : %s/%s (%.1f%s)' % (\n",
    "                        n_wk, n_w, 100.0 * n_wk / n_w, '%'))\n",
    "\n",
    "        # sort by decreasing length\n",
    "        lengths, idx_sort = np.sort(lengths)[::-1], np.argsort(-lengths)\n",
    "        sentences = np.array(sentences)[idx_sort]\n",
    "\n",
    "        return sentences, lengths, idx_sort\n",
    "\n",
    "    def encode(self, sentences, bsize=64, tokenize=True, verbose=False):\n",
    "        tic = time.time()\n",
    "        sentences, lengths, idx_sort = self.prepare_samples(\n",
    "                        sentences, bsize, tokenize, verbose)\n",
    "\n",
    "        embeddings = []\n",
    "        for stidx in range(0, len(sentences), bsize):\n",
    "            batch = self.get_batch(sentences[stidx:stidx + bsize])\n",
    "            if self.is_cuda():\n",
    "                batch = batch.cuda()\n",
    "            with torch.no_grad():\n",
    "                batch = self.forward((batch, lengths[stidx:stidx + bsize])).data.cpu().numpy()\n",
    "            embeddings.append(batch)\n",
    "        embeddings = np.vstack(embeddings)\n",
    "\n",
    "        # unsort\n",
    "        idx_unsort = np.argsort(idx_sort)\n",
    "        embeddings = embeddings[idx_unsort]\n",
    "\n",
    "        if verbose:\n",
    "            print('Speed : %.1f sentences/s (%s mode, bsize=%s)' % (\n",
    "                    len(embeddings)/(time.time()-tic),\n",
    "                    'gpu' if self.is_cuda() else 'cpu', bsize))\n",
    "        return embeddings\n",
    "\n",
    "    def visualize(self, sent, tokenize=True):\n",
    "\n",
    "        sent = sent.split() if not tokenize else self.tokenize(sent)\n",
    "        sent = [[self.bos] + [word for word in sent if word in self.word_vec] + [self.eos]]\n",
    "\n",
    "        if ' '.join(sent[0]) == '%s %s' % (self.bos, self.eos):\n",
    "            import warnings\n",
    "            warnings.warn('No words in \"%s\" have w2v vectors. Replacing \\\n",
    "                           by \"%s %s\"..' % (sent, self.bos, self.eos))\n",
    "        batch = self.get_batch(sent)\n",
    "\n",
    "        if self.is_cuda():\n",
    "            batch = batch.cuda()\n",
    "        output = self.enc_lstm(batch)[0]\n",
    "        output, idxs = torch.max(output, 0)\n",
    "        # output, idxs = output.squeeze(), idxs.squeeze()\n",
    "        idxs = idxs.data.cpu().numpy()\n",
    "        argmaxs = [np.sum((idxs == k)) for k in range(len(sent[0]))]\n",
    "\n",
    "        # visualize model\n",
    "        import matplotlib.pyplot as plt\n",
    "        x = range(len(sent[0]))\n",
    "        y = [100.0 * n / np.sum(argmaxs) for n in argmaxs]\n",
    "        plt.xticks(x, sent[0], rotation=45)\n",
    "        plt.bar(x, y)\n",
    "        plt.ylabel('%')\n",
    "        plt.title('Visualisation of words importance')\n",
    "        plt.show()\n",
    "\n",
    "        return output, idxs"
   ]
  },
  {
   "cell_type": "code",
   "execution_count": null,
   "metadata": {},
   "outputs": [],
   "source": [
    "model_version = 1\n",
    "print(\"model_version:\",model_version)\n",
    "MODEL_PATH = \"encoder/infersent%s.pkl\" % model_version\n",
    "params_model = {'bsize': 64, 'word_emb_dim': 300, 'enc_lstm_dim': 2048,\n",
    "                'pool_type': 'max', 'dpout_model': 0.0, 'version': model_version}\n",
    "model = InferSent(params_model)\n",
    "model.load_state_dict(torch.load(MODEL_PATH))\n",
    "\n",
    "# Keep it on CPU or put it on GPU\n",
    "use_cuda = True\n",
    "model = model.cuda() if use_cuda else model\n",
    "\n",
    "# If infersent1 -> use GloVe embeddings. If infersent2 -> use InferSent embeddings.\n",
    "W2V_PATH = '../data/glove.840B.300d.txt' if model_version == 1 else '../data/fastText/crawl-300d-2M.vec'\n",
    "model.set_w2v_path(W2V_PATH)\n",
    "\n",
    "# Load embeddings of K most frequent words\n",
    "model.build_vocab_k_words(K=500000)"
   ]
  },
  {
   "cell_type": "markdown",
   "metadata": {},
   "source": [
    "## 获取摘要"
   ]
  },
  {
   "cell_type": "markdown",
   "metadata": {},
   "source": [
    "### 聚类"
   ]
  },
  {
   "cell_type": "code",
   "execution_count": null,
   "metadata": {},
   "outputs": [
    {
     "data": {
      "application/vnd.jupyter.widget-view+json": {
       "model_id": "107523113d684265b464f24a25c9e8b1",
       "version_major": 2,
       "version_minor": 0
      },
      "text/plain": [
       "HBox(children=(IntProgress(value=0, max=11490), HTML(value='')))"
      ]
     },
     "metadata": {},
     "output_type": "display_data"
    },
    {
     "name": "stdout",
     "output_type": "stream",
     "text": [
      "error: ['lrb cnn rrb once hillary clinton s official announcement went online  social media responded in a big way  with terms like  hillary clinton    hillary2016   and yes  even  whyimnotvotingforhillary  trending ', 'certainly  you could nt go far on twitter lrb even before clinton tweeted her announcement rrb  without an opinion or thought on her new campaign lrb there were over 3 million views of her announcment tweets in one hour  and 750000 facebook video views so far by sunday evening rrb ']  response across social media led to multiple trending topics for hillary clinton s presidential announcement    some responded to her video and her new campaign logo  \n",
      "error: ['the masters 2015 is almost here  to help get you in the mood for the first major of the year  rory mcilroy  ian poulter  graeme mcdowell and justin rose  plus past masters champions nick faldo and charl schwartzel  give the lowdown on every hole at the worldfamous augusta national golf club ']  the 79th masters tournament gets underway at augusta national on thursday    rory mcilroy and tiger woods will be the star attractions in the field bidding for the green jacket at 2015 masters    mcilroy  justin rose  ian poulter  graeme mcdowell and more gave sportsmail the verdict on each hole at augusta    click on the brilliant interactive graphic below for details on each hole of the masters 2015 course    click here for all the latest news from the masters 2015  \n",
      "error: ['the buildup for the blockbuster fight between floyd mayweather and manny pacquiao in las vegas on may 2 steps up a gear on tuesday night when the american holds an open workout for the media ']  floyd mayweather holds an open media workout from 12 am uk lrb 7 pm edt rrb    the american takes on manny pacquiao in las vegas on may 2    mayweather s training is being streamed live across the world  \n",
      "error: ['twenty four hours after floyd mayweather jnr dazzled the media with his skills  manny pacquiao takes his turn ', 'the filipino icon will be put through his paces at the iconic wild card gym in los angeles this evening under the watchful eye of trainer freddie roach ']  manny pacquiao takes on floyd mayweather in las vegas on may 2    pacquiao will hold a public workout tonight in his gym in la    mayweather held his last night at the mayweather boxing gym    the fight will be worth at least  300m  the richest in boxing history    read  mayweather admits he no longer enjoys boxing  \n",
      "error: ['sportsmail s boxing correspondent jeff powell looks ahead to saturday s megafight at the mgm grand after witnessing floyd mayweather and manny pacquiao s grand arrivals in las vegas ', 'both boxers made public appearances on tuesday as their  300million showdown draws ever closer  and our man powell was there ']  jeff powell looks ahead to saturday s fight at the mgm grand    floyd mayweather takes on manny pacquiao in  300m showdown    both fighters arrived in las vegas on tuesday with public appearances    read  mayweather makes official arrival ahead of manny pacquiao fight    al haymon  the man behind mayweather who is revolutionising boxing    mayweather vs pacquiao takes centre stage  but who s on the undercard  \n",
      "error: []  scott dann was a fraction offside when he set up glenn murray    assistant john brooks was spot on with two close calls in same move    crystal palace beat manchester city 21 in premier league on monday  \n",
      "\n"
     ]
    }
   ],
   "source": [
    "hypothesis = []\n",
    "reference = []\n",
    "n_clusters = 3\n",
    "\n",
    "for x,y in tqdm_notebook(lines):\n",
    "    try:\n",
    "        sentVec = sentence2vec(x)\n",
    "#         sentVec = tfidfVec(x, tfidf)\n",
    "#         sentVec = model.encode(x)\n",
    "        kmeans = KMeans(n_clusters=n_clusters)\n",
    "        kmeans = kmeans.fit(sentVec)\n",
    "        avg = []\n",
    "        for j in range(n_clusters):\n",
    "            idx = np.where(kmeans.labels_ == j)[0]\n",
    "            avg.append(np.mean(idx))\n",
    "        closest, _ = pairwise_distances_argmin_min(kmeans.cluster_centers_, sentVec)\n",
    "        ordering = sorted(range(n_clusters), key=lambda k: avg[k])\n",
    "        summary = ' '.join([x[closest[idx]] for idx in ordering])\n",
    "\n",
    "        reference.append(y)\n",
    "        hypothesis.append(summary)\n",
    "    except:\n",
    "        print(\"error:\", x, y)\n",
    "\n",
    "rouge = Rouge()\n",
    "scores = rouge.get_scores(hypothesis, reference, avg=True)\n",
    "scores"
   ]
  },
  {
   "cell_type": "markdown",
   "metadata": {},
   "source": [
    "### 可视化聚类结果"
   ]
  },
  {
   "cell_type": "code",
   "execution_count": 69,
   "metadata": {},
   "outputs": [
    {
     "data": {
      "text/plain": [
       "<matplotlib.legend.Legend at 0x16e00509c48>"
      ]
     },
     "execution_count": 69,
     "metadata": {},
     "output_type": "execute_result"
    },
    {
     "data": {
      "image/png": "[encoded data removed]",
      "text/plain": [
       "<Figure size 432x288 with 1 Axes>"
      ]
     },
     "metadata": {
      "needs_background": "light"
     },
     "output_type": "display_data"
    }
   ],
   "source": [
    "from sklearn.decomposition import PCA\n",
    "from matplotlib import pyplot as plt\n",
    "import itertools\n",
    "\n",
    "x = lines[0][0]\n",
    "y = lines[0][1]\n",
    "\n",
    "rouge = Rouge()\n",
    "c = list(itertools.combinations(x,3))\n",
    "max_scores = 0\n",
    "for sents in tqdm_notebook(c):\n",
    "    hypothesis = \"\".join(sents)\n",
    "    score = rouge.get_scores(hypothesis, y)[0]\n",
    "    score = (score[\"rouge-1\"][\"f\"] + score[\"rouge-2\"][\"f\"] + score[\"rouge-l\"][\"f\"]) / 3\n",
    "    if score > max_scores:\n",
    "        max_scores = score\n",
    "        best_c = sent\n",
    "\n",
    "sentVec = sentence2vec(x)\n",
    "pca = PCA(n_components=2)\n",
    "pca.fit(sentVec)\n",
    "a = pca.transform(sentVec)\n",
    "plt.scatter(a[:3,0], a[:3,1], marker = 'x', color = 'm', label='first3')\n",
    "plt.scatter(a[3:,0], a[3:,1])\n",
    "\n",
    "plt.scatter(a[best3_idx[0],0], a[best3_idx[0],1], marker='x', color = 'y')\n",
    "for i in best3_idx:\n",
    "    plt.scatter(a[i,0], a[i,1], marker='x', color = 'y', label='best3')\n",
    "\n",
    "kmeans = KMeans(n_clusters=3,random_state=42)\n",
    "kmeans = kmeans.fit(sentVec)\n",
    "centers = pca.transform(kmeans.cluster_centers_)\n",
    "closest, _ = pairwise_distances_argmin_min(kmeans.cluster_centers_, sentVec)\n",
    "for c in closest:\n",
    "    plt.scatter(a[c,0], a[c,1], color='g', label=\"kmeans\")\n",
    "plt.scatter(centers[:,0], centers[:,1], marker = \"o\", color = 'r', label='center')\n",
    "\n",
    "handles, labels = plt.gca().get_legend_handles_labels()\n",
    "by_label = dict(zip(labels, handles))\n",
    "plt.legend(by_label.values(), by_label.keys())"
   ]
  },
  {
   "cell_type": "markdown",
   "metadata": {},
   "source": [
    "### Textrank"
   ]
  },
  {
   "cell_type": "code",
   "execution_count": null,
   "metadata": {},
   "outputs": [],
   "source": [
    "import networkx as nx\n",
    "from sklearn.metrics.pairwise import cosine_similarity\n",
    "rouge = Rouge()\n",
    "\n",
    "hypothesis = []\n",
    "reference = []\n",
    "sn = 3\n",
    "\n",
    "for x,y in tqdm_notebook(lines):\n",
    "    try:\n",
    "        sentence_vectors = sentence2vec(x)\n",
    "#         sentence_vectors = tfidfVec(x, tfidf)\n",
    "#         sentence_vectors = model.encode(x)\n",
    "        sim_mat = np.zeros([len(x), len(x)])\n",
    "        for i in range(len(x)):\n",
    "            for j in range(len(x)):\n",
    "                if i != j:\n",
    "                    sim_mat[i][j] = cosine_similarity(sentence_vectors[i].reshape(1,300), sentence_vectors[j].reshape(1,300))[0,0]\n",
    "        nx_graph = nx.from_numpy_array(sim_mat)\n",
    "        scores = nx.pagerank(nx_graph)\n",
    "        rank_scores = sorted(range(len(scores)), key=lambda k: scores.get(k), reverse=True)\n",
    "        ordering = sorted(range(sn), key=lambda k: rank_scores[k])\n",
    "\n",
    "        hypothesis.append(''.join([x[rank_scores[idx]] for idx in ordering]))\n",
    "        reference.append(y)\n",
    "    except:\n",
    "        print(\"error:\",x,y)\n",
    "        continue\n",
    "\n",
    "    \n",
    "scores = rouge.get_scores(hypothesis, reference, avg=True)\n",
    "print(scores)"
   ]
  },
  {
   "cell_type": "markdown",
   "metadata": {},
   "source": [
    "### MMR"
   ]
  },
  {
   "cell_type": "code",
   "execution_count": null,
   "metadata": {},
   "outputs": [],
   "source": [
    "import operator\n",
    "\n",
    "def calculateSimilarity(sentence,doc):\n",
    "    cos_sim = 0.0\n",
    "    for vec in doc:\n",
    "        try:\n",
    "            cos_sim += np.inner(sentence, vec) / (np.linalg.norm(sentence) * np.linalg.norm(vec))\n",
    "        except:\n",
    "            continue\n",
    "    return cos_sim / len(doc)\n",
    "    \n",
    "alpha = 0.5\n",
    "print(\"alpha:\", alpha)\n",
    "for x,y in tqdm(lines):\n",
    "    try:\n",
    "        doc = [\"\".join(x)]\n",
    "#         x_vec = sentence2vec(x)\n",
    "#         doc_vec = sentence2vec(doc)\n",
    "        \n",
    "#         x_vec = tfidfVec(x, tfidf)\n",
    "#         doc_vec =  tfidfVec(doc, tfidf)\n",
    "        x_vec = model.encode(x)\n",
    "        doc_vec =  model.encode(doc)\n",
    "\n",
    "        scores = []\n",
    "        for vec in x_vec:\n",
    "            scores.append(calculateSimilarity(vec, doc_vec))\n",
    "\n",
    "        max_index = scores.index(max(scores))\n",
    "\n",
    "        n = 3\n",
    "        summarySet = []\n",
    "\n",
    "        while n > 0:\n",
    "            mmr = {}\n",
    "            for index in range(len(x)):\n",
    "                sentence = x[index]\n",
    "                vec = x_vec[index]\n",
    "                if not sentence in summarySet:\n",
    "                    mmr[sentence] = alpha * scores[index] - (1 - alpha) * calculateSimilarity(vec, doc_vec)\n",
    "            selected = max(mmr.items(), key=operator.itemgetter(1))[0]\n",
    "            summarySet.append(selected)\n",
    "            n -= 1\n",
    "        hypothesis.append(\"\".join(summarySet))\n",
    "        reference.append(y)\n",
    "    except Exception as e:\n",
    "        print(\"error:\", x, y)\n",
    "        print(e)\n",
    "\n",
    "rouge = Rouge()\n",
    "scores = rouge.get_scores(hypothesis, reference, avg=True)\n",
    "print(scores)"
   ]
  },
  {
   "cell_type": "markdown",
   "metadata": {},
   "source": [
    "## Baseline"
   ]
  },
  {
   "cell_type": "markdown",
   "metadata": {},
   "source": [
    "### 直接取前三句"
   ]
  },
  {
   "cell_type": "code",
   "execution_count": 14,
   "metadata": {},
   "outputs": [
    {
     "data": {
      "application/vnd.jupyter.widget-view+json": {
       "model_id": "41e3ac6923004dbabd199c4aa5246bf7",
       "version_major": 2,
       "version_minor": 0
      },
      "text/plain": [
       "HBox(children=(IntProgress(value=0, max=11490), HTML(value='')))"
      ]
     },
     "metadata": {},
     "output_type": "display_data"
    },
    {
     "name": "stdout",
     "output_type": "stream",
     "text": [
      "\n"
     ]
    },
    {
     "data": {
      "text/plain": [
       "{'rouge-1': {'f': 0.4061975886142278,\n",
       "  'p': 0.3492116467886355,\n",
       "  'r': 0.5203605937110696},\n",
       " 'rouge-2': {'f': 0.17052685675218657,\n",
       "  'p': 0.14371171733197152,\n",
       "  'r': 0.23018089464057517},\n",
       " 'rouge-l': {'f': 0.24860135480039966,\n",
       "  'p': 0.23403361999142586,\n",
       "  'r': 0.35053142615024646}}"
      ]
     },
     "execution_count": 14,
     "metadata": {},
     "output_type": "execute_result"
    }
   ],
   "source": [
    "rouge = Rouge()\n",
    "\n",
    "hypothesis = []\n",
    "reference = []\n",
    "\n",
    "for x,y in tqdm_notebook(lines):\n",
    "    first3sentence = x[:3]\n",
    "    if len(\"\".join(first3sentence)) < 10:\n",
    "        continue\n",
    "    hypothesis.append(''.join(first3sentence))\n",
    "    reference.append(y)\n",
    "\n",
    "    \n",
    "scores = rouge.get_scores(hypothesis, reference, avg=True)\n",
    "scores"
   ]
  },
  {
   "cell_type": "markdown",
   "metadata": {},
   "source": [
    "### 随机取三句"
   ]
  },
  {
   "cell_type": "code",
   "execution_count": 17,
   "metadata": {},
   "outputs": [
    {
     "data": {
      "application/vnd.jupyter.widget-view+json": {
       "model_id": "f4b13c20aeb34fc588031cb71e64eddc",
       "version_major": 2,
       "version_minor": 0
      },
      "text/plain": [
       "HBox(children=(IntProgress(value=0, max=11490), HTML(value='')))"
      ]
     },
     "metadata": {},
     "output_type": "display_data"
    },
    {
     "name": "stdout",
     "output_type": "stream",
     "text": [
      "\n"
     ]
    },
    {
     "data": {
      "text/plain": [
       "{'rouge-1': {'f': 0.2890532563335098,\n",
       "  'p': 0.2583631099718259,\n",
       "  'r': 0.3578374087947165},\n",
       " 'rouge-2': {'f': 0.08516945177073726,\n",
       "  'p': 0.07553395151286886,\n",
       "  'r': 0.1098537965184604},\n",
       " 'rouge-l': {'f': 0.173403734703439,\n",
       "  'p': 0.1686255879027422,\n",
       "  'r': 0.23433493594892973}}"
      ]
     },
     "execution_count": 17,
     "metadata": {},
     "output_type": "execute_result"
    }
   ],
   "source": [
    "import itertools\n",
    "import random\n",
    "\n",
    "rouge = Rouge()\n",
    "hypothesis = []\n",
    "reference = []\n",
    "\n",
    "for x,y in tqdm_notebook(lines):\n",
    "    c = list(itertools.combinations(x,3))\n",
    "    try:\n",
    "        h = random.choice(c)\n",
    "    except:\n",
    "        continue\n",
    "    if len(\"\".join(h)) < 10:\n",
    "        continue\n",
    "    hypothesis.append(\"\".join(h))\n",
    "    reference.append(y)\n",
    "\n",
    "\n",
    "scores = rouge.get_scores(hypothesis, reference, avg=True)\n",
    "scores"
   ]
  },
  {
   "cell_type": "markdown",
   "metadata": {},
   "source": [
    "### 理论最优三句"
   ]
  },
  {
   "cell_type": "code",
   "execution_count": null,
   "metadata": {},
   "outputs": [],
   "source": [
    "rouge = Rouge()\n",
    "hypothesis = []\n",
    "reference = []\n",
    "\n",
    "for x,y in tqdm_notebook(lines):\n",
    "    try:\n",
    "        max_scores = 0\n",
    "        c = list(itertools.combinations(x,3))\n",
    "        for a in c:\n",
    "            scores = rouge.get_scores(\"\".join(a), y)[0]\n",
    "            avg_scores = (scores[\"rouge-1\"][\"f\"] +  scores[\"rouge-1\"][\"f\"] + scores[\"rouge-1\"][\"f\"]) / 3\n",
    "            if avg_scores > max_scores:\n",
    "                max_scores = avg_scores\n",
    "                best_sents = \"\".join(a)\n",
    "\n",
    "        hypothesis.append(best_sents)\n",
    "        reference.append(y)\n",
    "    except:\n",
    "        print(\"error:\",x,y)\n",
    "\n",
    "\n",
    "scores = rouge.get_scores(hypothesis, reference, avg=True)\n",
    "print(scores)"
   ]
  }
 ],
 "metadata": {
  "kernelspec": {
   "display_name": "Python 3",
   "language": "python",
   "name": "python3"
  },
  "language_info": {
   "codemirror_mode": {
    "name": "ipython",
    "version": 3
   },
   "file_extension": ".py",
   "mimetype": "text/x-python",
   "name": "python",
   "nbconvert_exporter": "python",
   "pygments_lexer": "ipython3",
   "version": "3.7.4"
  }
 },
 "nbformat": 4,
 "nbformat_minor": 4
}
