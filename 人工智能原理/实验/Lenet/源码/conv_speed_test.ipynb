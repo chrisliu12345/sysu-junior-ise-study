{
 "cells": [
  {
   "cell_type": "code",
   "execution_count": 1,
   "metadata": {},
   "outputs": [],
   "source": [
    "import numpy as np"
   ]
  },
  {
   "cell_type": "code",
   "execution_count": 2,
   "metadata": {},
   "outputs": [],
   "source": [
    "image = np.arange(28*28*16).reshape(16,1,28,28)"
   ]
  },
  {
   "cell_type": "code",
   "execution_count": 3,
   "metadata": {},
   "outputs": [],
   "source": [
    "class naive_Conv():\n",
    "    \"\"\"\n",
    "    Conv layer\n",
    "    \"\"\"\n",
    "    def __init__(self, Cin, Cout, F, stride=1, padding=0, bias=True):\n",
    "        self.Cin = Cin\n",
    "        self.Cout = Cout\n",
    "        self.F = F\n",
    "        self.S = stride\n",
    "        self.W = {'val': np.random.normal(0.0,np.sqrt(2/Cin),(Cout,Cin,F,F)), 'grad': 0} \n",
    "        self.b = {'val': np.random.randn(Cout), 'grad': 0}\n",
    "        self.cache = None\n",
    "        self.pad = padding\n",
    "\n",
    "    def forward(self, X):\n",
    "        X = np.pad(X, ((0,0),(0,0),(self.pad,self.pad),(self.pad,self.pad)), 'constant')\n",
    "        (N, Cin, H, W) = X.shape\n",
    "        H_ = H - self.F + 1\n",
    "        W_ = W - self.F + 1\n",
    "        Y = np.zeros((N, self.Cout, H_, W_))\n",
    "\n",
    "        for n in range(N):\n",
    "            for c in range(self.Cout):\n",
    "                for h in range(H_):\n",
    "                    for w in range(W_):\n",
    "                        Y[n, c, h, w] = np.sum(X[n, :, h:h+self.F, w:w+self.F] * self.W['val'][c, :, :, :]) + self.b['val'][c]\n",
    "\n",
    "        self.cache = X\n",
    "        return Y\n",
    "\n",
    "    def backward(self, dout):\n",
    "        X = self.cache\n",
    "        (N, Cin, H, W) = X.shape\n",
    "        H_ = H - self.F + 1\n",
    "        W_ = W - self.F + 1\n",
    "        W_rot = np.rot90(np.rot90(self.W['val']))\n",
    "\n",
    "        dX = np.zeros(X.shape)\n",
    "        dW = np.zeros(self.W['val'].shape)\n",
    "        db = np.zeros(self.b['val'].shape)\n",
    "\n",
    "        # dW\n",
    "        for co in range(self.Cout):\n",
    "            for ci in range(Cin):\n",
    "                for h in range(self.F):\n",
    "                    for w in range(self.F):\n",
    "                        dW[co, ci, h, w] = np.sum(X[:,ci,h:h+H_,w:w+W_] * dout[:,co,:,:])\n",
    "\n",
    "        # db\n",
    "        for co in range(self.Cout):\n",
    "            db[co] = np.sum(dout[:,co,:,:])\n",
    "\n",
    "        dout_pad = np.pad(dout, ((0,0),(0,0),(self.F,self.F),(self.F,self.F)), 'constant')\n",
    "\n",
    "        # dX\n",
    "        for n in range(N):\n",
    "            for ci in range(Cin):\n",
    "                for h in range(H):\n",
    "                    for w in range(W):\n",
    "                        dX[n, ci, h, w] = np.sum(W_rot[:,ci,:,:] * dout_pad[n, :, h:h+self.F,w:w+self.F])\n",
    "\n",
    "        return dX"
   ]
  },
  {
   "cell_type": "code",
   "execution_count": 4,
   "metadata": {},
   "outputs": [
    {
     "name": "stdout",
     "output_type": "stream",
     "text": [
      "484 ms ± 13.2 ms per loop (mean ± std. dev. of 7 runs, 1 loop each)\n"
     ]
    }
   ],
   "source": [
    "naive_conv = naive_Conv(1,6,5)\n",
    "%timeit naive_conv.forward(image)"
   ]
  },
  {
   "cell_type": "code",
   "execution_count": 5,
   "metadata": {},
   "outputs": [
    {
     "name": "stdout",
     "output_type": "stream",
     "text": [
      "132 ms ± 2.58 ms per loop (mean ± std. dev. of 7 runs, 10 loops each)\n"
     ]
    }
   ],
   "source": [
    "out = naive_conv.forward(image)\n",
    "%timeit naive_conv.backward(out)"
   ]
  },
  {
   "cell_type": "code",
   "execution_count": 6,
   "metadata": {},
   "outputs": [],
   "source": [
    "class im2col_Conv():\n",
    "    def __init__(self, in_channels, out_channels, kernel_size, stride=1):\n",
    "        self.in_channels = in_channels\n",
    "        self.out_channels = out_channels\n",
    "        self.kernel_size = kernel_size\n",
    "        self.weight_size = (self.out_channels, self.in_channels, self.kernel_size, self.kernel_size)\n",
    "        self.stride = stride\n",
    "\n",
    "        self.W = {'val': np.random.standard_normal(self.weight_size), 'grad': 0}\n",
    "        self.b = {'val':  np.random.standard_normal((self.out_channels,1)), 'grad': 0}\n",
    "        \n",
    "        self.cache = None\n",
    "\n",
    "    def forward(self, x):\n",
    "        (N,C,H,W) = x.shape\n",
    "        self.input_shape = x.shape\n",
    "        H_out = (H - self.kernel_size) // self.stride + 1\n",
    "        W_out = (W - self.kernel_size) // self.stride + 1\n",
    "        conv_out = np.zeros((N, self.out_channels, H_out, W_out))\n",
    "        self.col_image = []\n",
    "        \n",
    "        weight_cols = self.W['val'].reshape(self.out_channels, -1)\n",
    "        for i in range(N):\n",
    "            img_i = x[i][np.newaxis, :]\n",
    "            x_cols = im2col(img_i, self.kernel_size, self.stride)\n",
    "            conv_out[i] = (np.dot(weight_cols, x_cols.T) + self.b['val']).reshape(self.out_channels, H_out, W_out)\n",
    "            self.col_image.append(x_cols)\n",
    "        self.col_image = np.array(self.col_image)\n",
    "        \n",
    "        return conv_out\n",
    "        \n",
    "    def backward(self, error):\n",
    "        (N,C,_,_) = error.shape\n",
    "        error_col = error.reshape(N,C,-1)\n",
    "        for i in range(N):\n",
    "            self.W['grad'] += np.dot(error_col[i], self.col_image[i]).reshape(self.W['val'].shape)\n",
    "        self.b['grad'] += np.sum(error_col, axis=(0,2)).reshape(self.b['val'].shape)\n",
    "        \n",
    "        error_pad =np.pad(error, ((0,0), (0,0), (self.kernel_size - 1, self.kernel_size - 1),\n",
    "                          (self.kernel_size - 1, self.kernel_size - 1)), 'constant', constant_values=0)\n",
    "        \n",
    "        flip_weights = self.W['val'][:, :, ::-1, ::-1]\n",
    "        flip_weights = flip_weights.swapaxes(0,1) \n",
    "        col_flip_weights = flip_weights.reshape(self.in_channels, -1)\n",
    "        \n",
    "        col_pad_delta = np.array([im2col(error_pad[i][np.newaxis, :], self.kernel_size, self.stride) for i in range(N)])\n",
    "#         col_pad_delta = split_by_strides(error_pad,self.kernel_size,self.kernel_size,self.stride)\n",
    "        next_delta = np.dot(col_pad_delta, col_flip_weights.T)\n",
    "        next_delta = np.reshape(next_delta.transpose(0,2,1), self.input_shape)\n",
    "        \n",
    "        return next_delta\n",
    "    \n",
    "def im2col(image, kernel_size, stride):\n",
    "    (N, C, H, W) = image.shape\n",
    "    image_col = []\n",
    "    for i in range(0, H - kernel_size + 1, stride):\n",
    "        for j in range(0, W - kernel_size + 1, stride):\n",
    "            col = image[:, :, i:i+kernel_size, j:j+kernel_size].reshape(-1)\n",
    "            image_col.append(col)\n",
    "    image_col = np.array(image_col)\n",
    "    return image_col"
   ]
  },
  {
   "cell_type": "code",
   "execution_count": 7,
   "metadata": {},
   "outputs": [
    {
     "name": "stdout",
     "output_type": "stream",
     "text": [
      "28.4 ms ± 544 µs per loop (mean ± std. dev. of 7 runs, 10 loops each)\n"
     ]
    }
   ],
   "source": [
    "im2col_conv = im2col_Conv(1,6,5)\n",
    "%timeit im2col_conv.forward(image)"
   ]
  },
  {
   "cell_type": "code",
   "execution_count": 8,
   "metadata": {},
   "outputs": [
    {
     "name": "stdout",
     "output_type": "stream",
     "text": [
      "66.2 ms ± 1.04 ms per loop (mean ± std. dev. of 7 runs, 10 loops each)\n"
     ]
    }
   ],
   "source": [
    "%timeit im2col_conv.backward(out)"
   ]
  },
  {
   "cell_type": "code",
   "execution_count": 9,
   "metadata": {},
   "outputs": [],
   "source": [
    "class fastim2col_Conv():\n",
    "    def __init__(self, in_channels, out_channels, kernel_size, stride=1):\n",
    "        self.in_channels = in_channels\n",
    "        self.out_channels = out_channels\n",
    "        self.kernel_size = kernel_size\n",
    "        self.weight_size = (self.out_channels, self.in_channels, self.kernel_size, self.kernel_size)\n",
    "        self.stride = stride\n",
    "\n",
    "        self.W = {'val': np.random.standard_normal(self.weight_size), 'grad': 0}\n",
    "        self.b = {'val':  np.random.standard_normal((self.out_channels,1)), 'grad': 0}\n",
    "        \n",
    "        self.cache = None\n",
    "\n",
    "    def forward(self, x):\n",
    "        (N,C,H,W) = x.shape\n",
    "        self.input_shape = x.shape\n",
    "        H_out = (H - self.kernel_size) // self.stride + 1\n",
    "        W_out = (W - self.kernel_size) // self.stride + 1\n",
    "        conv_out = np.zeros((N, self.out_channels, H_out, W_out))\n",
    "        self.col_image = []\n",
    "        \n",
    "        weight_cols = self.W['val'].reshape(self.out_channels, -1)\n",
    "        self.col_image = im2col_fast(x,self.kernel_size,self.stride)\n",
    "        conv_out = (np.dot(self.col_image, weight_cols.T) + self.b['val'].T).transpose(0,2,1).reshape(N, self.out_channels, H_out, W_out)\n",
    "        \n",
    "        return conv_out\n",
    "        \n",
    "    def backward(self, error):\n",
    "        (N,C,_,_) = error.shape\n",
    "        error_col = error.reshape(N,C,-1)\n",
    "        for i in range(N):\n",
    "            self.W['grad'] += np.dot(error_col[i], self.col_image[i]).reshape(self.W['val'].shape)\n",
    "        self.b['grad'] += np.sum(error_col, axis=(0,2)).reshape(self.b['val'].shape)\n",
    "        \n",
    "        error_pad =np.pad(error, ((0,0), (0,0), (self.kernel_size - 1, self.kernel_size - 1),\n",
    "                          (self.kernel_size - 1, self.kernel_size - 1)), 'constant', constant_values=0)\n",
    "        \n",
    "        flip_weights = self.W['val'][:, :, ::-1, ::-1]\n",
    "        flip_weights = flip_weights.swapaxes(0,1) # hard to make sure\n",
    "        col_flip_weights = flip_weights.reshape(self.in_channels, -1)\n",
    "        \n",
    "#         col_pad_delta = np.array([im2col(error_pad[i][np.newaxis, :], self.kernel_size, self.stride) for i in range(N)])\n",
    "        col_pad_delta = im2col_fast(error_pad,self.kernel_size,self.stride)\n",
    "        next_delta = np.dot(col_pad_delta, col_flip_weights.T)\n",
    "        next_delta = np.reshape(next_delta.transpose(0,2,1), self.input_shape)\n",
    "        \n",
    "        return next_delta\n",
    "\n",
    "def im2col_fast(image, kernel_size, stride):\n",
    "    N, C, H, W = image.shape\n",
    "    H_out = (H - kernel_size) // stride + 1\n",
    "    W_out = (W - kernel_size) // stride + 1\n",
    "    shape = (N, C, H_out, W_out, kernel_size, kernel_size)\n",
    "    strides = (*image.strides[:-2], image.strides[-2]*stride, image.strides[-1]*stride, *image.strides[-2:])\n",
    "    A = np.lib.stride_tricks.as_strided(image, shape=shape, strides=strides)\n",
    "    return A.transpose(0,2,3,1,4,5).reshape(N, H_out*W_out, C*kernel_size*kernel_size)"
   ]
  },
  {
   "cell_type": "code",
   "execution_count": 10,
   "metadata": {},
   "outputs": [
    {
     "name": "stdout",
     "output_type": "stream",
     "text": [
      "3.63 ms ± 108 µs per loop (mean ± std. dev. of 7 runs, 100 loops each)\n"
     ]
    }
   ],
   "source": [
    "fastim2col_conv = fastim2col_Conv(1,6,5)\n",
    "%timeit fastim2col_conv.forward(image)"
   ]
  },
  {
   "cell_type": "code",
   "execution_count": 11,
   "metadata": {},
   "outputs": [
    {
     "name": "stdout",
     "output_type": "stream",
     "text": [
      "19.6 ms ± 767 µs per loop (mean ± std. dev. of 7 runs, 100 loops each)\n"
     ]
    }
   ],
   "source": [
    "%timeit fastim2col_conv.backward(out)"
   ]
  }
 ],
 "metadata": {
  "kernelspec": {
   "display_name": "Machine Learning",
   "language": "python",
   "name": "ml"
  },
  "language_info": {
   "codemirror_mode": {
    "name": "ipython",
    "version": 3
   },
   "file_extension": ".py",
   "mimetype": "text/x-python",
   "name": "python",
   "nbconvert_exporter": "python",
   "pygments_lexer": "ipython3",
   "version": "3.6.6"
  }
 },
 "nbformat": 4,
 "nbformat_minor": 4
}
