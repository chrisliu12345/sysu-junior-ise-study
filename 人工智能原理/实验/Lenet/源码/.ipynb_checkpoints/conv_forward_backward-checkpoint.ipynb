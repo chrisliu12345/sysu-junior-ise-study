{
 "cells": [
  {
   "cell_type": "code",
   "execution_count": 1,
   "metadata": {
    "collapsed": true
   },
   "outputs": [],
   "source": [
    "import sympy\n",
    "from sympy import MutableDenseNDimArray, Symbol, derive_by_array, Transpose\n",
    "from sympy import init_printing\n",
    "import numpy as np"
   ]
  },
  {
   "cell_type": "code",
   "execution_count": 2,
   "metadata": {
    "collapsed": true
   },
   "outputs": [],
   "source": [
    "init_printing()"
   ]
  },
  {
   "cell_type": "code",
   "execution_count": 3,
   "metadata": {
    "collapsed": true
   },
   "outputs": [],
   "source": [
    "# N_in = 3\n",
    "# H_in = 5\n",
    "# W_in = 5\n",
    "\n",
    "# N_out = 3\n",
    "# K = 3\n",
    "N_in = 3\n",
    "H_in = 3\n",
    "W_in = 3\n",
    "\n",
    "N_out = 3\n",
    "K = 2\n",
    "H_out = H_in-K+1\n",
    "W_out = W_in-K+1"
   ]
  },
  {
   "cell_type": "code",
   "execution_count": 4,
   "metadata": {
    "collapsed": true
   },
   "outputs": [],
   "source": [
    "I_Array = MutableDenseNDimArray.zeros(N_in, H_in, W_in)"
   ]
  },
  {
   "cell_type": "code",
   "execution_count": 5,
   "metadata": {},
   "outputs": [],
   "source": [
    "counter = 0\n",
    "for n in range(N_in):\n",
    "    for h in range(H_in):\n",
    "        for w in range(W_in):\n",
    "#             I_Array[n, h, w] = Symbol('I('+str(n)+','+str(h)+','+str(w)+')')\n",
    "            counter += 1\n",
    "            I_Array[n, h, w] = Symbol('I_'+str(counter))"
   ]
  },
  {
   "cell_type": "code",
   "execution_count": 6,
   "metadata": {},
   "outputs": [
    {
     "data": {
      "image/png": "[encoded data removed]",
      "text/latex": [
       "$$\\left[\\begin{matrix}\\left[\\begin{matrix}I_{1} & I_{2} & I_{3}\\\\I_{4} & I_{5} & I_{6}\\\\I_{7} & I_{8} & I_{9}\\end{matrix}\\right] & \\left[\\begin{matrix}I_{10} & I_{11} & I_{12}\\\\I_{13} & I_{14} & I_{15}\\\\I_{16} & I_{17} & I_{18}\\end{matrix}\\right] & \\left[\\begin{matrix}I_{19} & I_{20} & I_{21}\\\\I_{22} & I_{23} & I_{24}\\\\I_{25} & I_{26} & I_{27}\\end{matrix}\\right]\\end{matrix}\\right]$$"
      ],
      "text/plain": [
       "⎡⎡I₁  I₂  I₃⎤  ⎡I₁₀  I₁₁  I₁₂⎤  ⎡I₁₉  I₂₀  I₂₁⎤⎤\n",
       "⎢⎢          ⎥  ⎢             ⎥  ⎢             ⎥⎥\n",
       "⎢⎢I₄  I₅  I₆⎥  ⎢I₁₃  I₁₄  I₁₅⎥  ⎢I₂₂  I₂₃  I₂₄⎥⎥\n",
       "⎢⎢          ⎥  ⎢             ⎥  ⎢             ⎥⎥\n",
       "⎣⎣I₇  I₈  I₉⎦  ⎣I₁₆  I₁₇  I₁₈⎦  ⎣I₂₅  I₂₆  I₂₇⎦⎦"
      ]
     },
     "execution_count": 6,
     "metadata": {},
     "output_type": "execute_result"
    }
   ],
   "source": [
    "I_Array"
   ]
  },
  {
   "cell_type": "code",
   "execution_count": 7,
   "metadata": {
    "collapsed": true
   },
   "outputs": [],
   "source": [
    "W_Array = MutableDenseNDimArray.zeros(N_out, N_in, K, K)"
   ]
  },
  {
   "cell_type": "code",
   "execution_count": 8,
   "metadata": {},
   "outputs": [],
   "source": [
    "counter = 0\n",
    "for n_o in range(N_out):\n",
    "    for n_i in range(N_in):\n",
    "        for k_h in range(K):\n",
    "            for k_w in range(K):\n",
    "                counter += 1\n",
    "                W_Array[n_o, n_i, k_h, k_w] = Symbol('W_'+str(counter))\n",
    "#                 W_Array[n_o, n_i, k_h, k_w] = Symbol('W('+str(n_o)+','+str(n_i)+','+str(k_h)+','+str(k_w)+')')"
   ]
  },
  {
   "cell_type": "code",
   "execution_count": 9,
   "metadata": {},
   "outputs": [
    {
     "data": {
      "image/png": "[encoded data removed]",
      "text/latex": [
       "$$\\left[\\begin{matrix}\\left[\\begin{matrix}W_{1} & W_{2}\\\\W_{3} & W_{4}\\end{matrix}\\right] & \\left[\\begin{matrix}W_{5} & W_{6}\\\\W_{7} & W_{8}\\end{matrix}\\right] & \\left[\\begin{matrix}W_{9} & W_{10}\\\\W_{11} & W_{12}\\end{matrix}\\right]\\\\\\left[\\begin{matrix}W_{13} & W_{14}\\\\W_{15} & W_{16}\\end{matrix}\\right] & \\left[\\begin{matrix}W_{17} & W_{18}\\\\W_{19} & W_{20}\\end{matrix}\\right] & \\left[\\begin{matrix}W_{21} & W_{22}\\\\W_{23} & W_{24}\\end{matrix}\\right]\\\\\\left[\\begin{matrix}W_{25} & W_{26}\\\\W_{27} & W_{28}\\end{matrix}\\right] & \\left[\\begin{matrix}W_{29} & W_{30}\\\\W_{31} & W_{32}\\end{matrix}\\right] & \\left[\\begin{matrix}W_{33} & W_{34}\\\\W_{35} & W_{36}\\end{matrix}\\right]\\end{matrix}\\right]$$"
      ],
      "text/plain": [
       "⎡ ⎡W₁  W₂⎤    ⎡W₅  W₆⎤   ⎡W₉   W₁₀⎤⎤\n",
       "⎢ ⎢      ⎥    ⎢      ⎥   ⎢        ⎥⎥\n",
       "⎢ ⎣W₃  W₄⎦    ⎣W₇  W₈⎦   ⎣W₁₁  W₁₂⎦⎥\n",
       "⎢                                  ⎥\n",
       "⎢⎡W₁₃  W₁₄⎤  ⎡W₁₇  W₁₈⎤  ⎡W₂₁  W₂₂⎤⎥\n",
       "⎢⎢        ⎥  ⎢        ⎥  ⎢        ⎥⎥\n",
       "⎢⎣W₁₅  W₁₆⎦  ⎣W₁₉  W₂₀⎦  ⎣W₂₃  W₂₄⎦⎥\n",
       "⎢                                  ⎥\n",
       "⎢⎡W₂₅  W₂₆⎤  ⎡W₂₉  W₃₀⎤  ⎡W₃₃  W₃₄⎤⎥\n",
       "⎢⎢        ⎥  ⎢        ⎥  ⎢        ⎥⎥\n",
       "⎣⎣W₂₇  W₂₈⎦  ⎣W₃₁  W₃₂⎦  ⎣W₃₅  W₃₆⎦⎦"
      ]
     },
     "execution_count": 9,
     "metadata": {},
     "output_type": "execute_result"
    }
   ],
   "source": [
    "W_Array"
   ]
  },
  {
   "cell_type": "code",
   "execution_count": 10,
   "metadata": {},
   "outputs": [],
   "source": [
    "B_Array = MutableDenseNDimArray.zeros(N_out, 1)"
   ]
  },
  {
   "cell_type": "code",
   "execution_count": 11,
   "metadata": {
    "collapsed": true
   },
   "outputs": [],
   "source": [
    "counter = 0\n",
    "for n_o in range(N_out):\n",
    "    counter += 1\n",
    "    B_Array[n_o] = Symbol('B_'+str(counter))\n",
    "#     B_Array[n_o] = Symbol('B('+str(n_o)+')')"
   ]
  },
  {
   "cell_type": "code",
   "execution_count": 12,
   "metadata": {},
   "outputs": [
    {
     "data": {
      "image/png": "[encoded data removed]",
      "text/latex": [
       "$$\\left[\\begin{matrix}B_{1}\\\\B_{2}\\\\B_{3}\\end{matrix}\\right]$$"
      ],
      "text/plain": [
       "⎡B₁⎤\n",
       "⎢  ⎥\n",
       "⎢B₂⎥\n",
       "⎢  ⎥\n",
       "⎣B₃⎦"
      ]
     },
     "execution_count": 12,
     "metadata": {},
     "output_type": "execute_result"
    }
   ],
   "source": [
    "B_Array"
   ]
  },
  {
   "cell_type": "code",
   "execution_count": 13,
   "metadata": {},
   "outputs": [],
   "source": [
    "O_Array = MutableDenseNDimArray.zeros(N_out, H_out, W_out)\n",
    "counter = 0\n",
    "for n_o in range(N_out):\n",
    "# for n_o in range(1):\n",
    "    for n_i in range(N_in):\n",
    "        for start_h in range(H_out):\n",
    "            for start_w in range(W_out):\n",
    "                I_patch = I_Array[n_i, start_h:start_h+K, start_w:start_w+K]\n",
    "                W_patch = W_Array[n_o, n_i, :, :]\n",
    "#                 print(I_patch)\n",
    "#                 print(W_patch)\n",
    "                for k_h in range(K):\n",
    "                    for k_w in range(K):\n",
    "                        O_Array[n_o, start_h, start_w] += I_patch[k_h, k_w]*W_patch[k_h, k_w]\n",
    "\n",
    "for n in range(N_out):\n",
    "    for h in range(H_out):\n",
    "        for w in range(W_out):\n",
    "            O_Array[n, h, w] += B_Array[n, 0]\n",
    "        \n",
    "# print(O_Array[0, 0, 0])\n",
    "# print(O_Array)"
   ]
  },
  {
   "cell_type": "code",
   "execution_count": 14,
   "metadata": {
    "collapsed": true
   },
   "outputs": [],
   "source": [
    "C = sum(O_Array)"
   ]
  },
  {
   "cell_type": "code",
   "execution_count": 15,
   "metadata": {},
   "outputs": [
    {
     "data": {
      "image/png": "[encoded data removed]",
      "text/latex": [
       "$$4 B_{1} + 4 B_{2} + 4 B_{3} + I_{1} W_{1} + I_{1} W_{13} + I_{1} W_{25} + I_{10} W_{17} + I_{10} W_{29} + I_{10} W_{5} + I_{11} W_{17} + I_{11} W_{18} + I_{11} W_{29} + I_{11} W_{30} + I_{11} W_{5} + I_{11} W_{6} + I_{12} W_{18} + I_{12} W_{30} + I_{12} W_{6} + I_{13} W_{17} + I_{13} W_{19} + I_{13} W_{29} + I_{13} W_{31} + I_{13} W_{5} + I_{13} W_{7} + I_{14} W_{17} + I_{14} W_{18} + I_{14} W_{19} + I_{14} W_{20} + I_{14} W_{29} + I_{14} W_{30} + I_{14} W_{31} + I_{14} W_{32} + I_{14} W_{5} + I_{14} W_{6} + I_{14} W_{7} + I_{14} W_{8} + I_{15} W_{18} + I_{15} W_{20} + I_{15} W_{30} + I_{15} W_{32} + I_{15} W_{6} + I_{15} W_{8} + I_{16} W_{19} + I_{16} W_{31} + I_{16} W_{7} + I_{17} W_{19} + I_{17} W_{20} + I_{17} W_{31} + I_{17} W_{32} + I_{17} W_{7} + I_{17} W_{8} + I_{18} W_{20} + I_{18} W_{32} + I_{18} W_{8} + I_{19} W_{21} + I_{19} W_{33} + I_{19} W_{9} + I_{2} W_{1} + I_{2} W_{13} + I_{2} W_{14} + I_{2} W_{2} + I_{2} W_{25} + I_{2} W_{26} + I_{20} W_{10} + I_{20} W_{21} + I_{20} W_{22} + I_{20} W_{33} + I_{20} W_{34} + I_{20} W_{9} + I_{21} W_{10} + I_{21} W_{22} + I_{21} W_{34} + I_{22} W_{11} + I_{22} W_{21} + I_{22} W_{23} + I_{22} W_{33} + I_{22} W_{35} + I_{22} W_{9} + I_{23} W_{10} + I_{23} W_{11} + I_{23} W_{12} + I_{23} W_{21} + I_{23} W_{22} + I_{23} W_{23} + I_{23} W_{24} + I_{23} W_{33} + I_{23} W_{34} + I_{23} W_{35} + I_{23} W_{36} + I_{23} W_{9} + I_{24} W_{10} + I_{24} W_{12} + I_{24} W_{22} + I_{24} W_{24} + I_{24} W_{34} + I_{24} W_{36} + I_{25} W_{11} + I_{25} W_{23} + I_{25} W_{35} + I_{26} W_{11} + I_{26} W_{12} + I_{26} W_{23} + I_{26} W_{24} + I_{26} W_{35} + I_{26} W_{36} + I_{27} W_{12} + I_{27} W_{24} + I_{27} W_{36} + I_{3} W_{14} + I_{3} W_{2} + I_{3} W_{26} + I_{4} W_{1} + I_{4} W_{13} + I_{4} W_{15} + I_{4} W_{25} + I_{4} W_{27} + I_{4} W_{3} + I_{5} W_{1} + I_{5} W_{13} + I_{5} W_{14} + I_{5} W_{15} + I_{5} W_{16} + I_{5} W_{2} + I_{5} W_{25} + I_{5} W_{26} + I_{5} W_{27} + I_{5} W_{28} + I_{5} W_{3} + I_{5} W_{4} + I_{6} W_{14} + I_{6} W_{16} + I_{6} W_{2} + I_{6} W_{26} + I_{6} W_{28} + I_{6} W_{4} + I_{7} W_{15} + I_{7} W_{27} + I_{7} W_{3} + I_{8} W_{15} + I_{8} W_{16} + I_{8} W_{27} + I_{8} W_{28} + I_{8} W_{3} + I_{8} W_{4} + I_{9} W_{16} + I_{9} W_{28} + I_{9} W_{4}$$"
      ],
      "text/plain": [
       "4⋅B₁ + 4⋅B₂ + 4⋅B₃ + I₁⋅W₁ + I₁⋅W₁₃ + I₁⋅W₂₅ + I₁₀⋅W₁₇ + I₁₀⋅W₂₉ + I₁₀⋅W₅ + I₁\n",
       "₁⋅W₁₇ + I₁₁⋅W₁₈ + I₁₁⋅W₂₉ + I₁₁⋅W₃₀ + I₁₁⋅W₅ + I₁₁⋅W₆ + I₁₂⋅W₁₈ + I₁₂⋅W₃₀ + I₁\n",
       "₂⋅W₆ + I₁₃⋅W₁₇ + I₁₃⋅W₁₉ + I₁₃⋅W₂₉ + I₁₃⋅W₃₁ + I₁₃⋅W₅ + I₁₃⋅W₇ + I₁₄⋅W₁₇ + I₁₄\n",
       "⋅W₁₈ + I₁₄⋅W₁₉ + I₁₄⋅W₂₀ + I₁₄⋅W₂₉ + I₁₄⋅W₃₀ + I₁₄⋅W₃₁ + I₁₄⋅W₃₂ + I₁₄⋅W₅ + I₁\n",
       "₄⋅W₆ + I₁₄⋅W₇ + I₁₄⋅W₈ + I₁₅⋅W₁₈ + I₁₅⋅W₂₀ + I₁₅⋅W₃₀ + I₁₅⋅W₃₂ + I₁₅⋅W₆ + I₁₅⋅\n",
       "W₈ + I₁₆⋅W₁₉ + I₁₆⋅W₃₁ + I₁₆⋅W₇ + I₁₇⋅W₁₉ + I₁₇⋅W₂₀ + I₁₇⋅W₃₁ + I₁₇⋅W₃₂ + I₁₇⋅\n",
       "W₇ + I₁₇⋅W₈ + I₁₈⋅W₂₀ + I₁₈⋅W₃₂ + I₁₈⋅W₈ + I₁₉⋅W₂₁ + I₁₉⋅W₃₃ + I₁₉⋅W₉ + I₂⋅W₁ \n",
       "+ I₂⋅W₁₃ + I₂⋅W₁₄ + I₂⋅W₂ + I₂⋅W₂₅ + I₂⋅W₂₆ + I₂₀⋅W₁₀ + I₂₀⋅W₂₁ + I₂₀⋅W₂₂ + I₂\n",
       "₀⋅W₃₃ + I₂₀⋅W₃₄ + I₂₀⋅W₉ + I₂₁⋅W₁₀ + I₂₁⋅W₂₂ + I₂₁⋅W₃₄ + I₂₂⋅W₁₁ + I₂₂⋅W₂₁ + I\n",
       "₂₂⋅W₂₃ + I₂₂⋅W₃₃ + I₂₂⋅W₃₅ + I₂₂⋅W₉ + I₂₃⋅W₁₀ + I₂₃⋅W₁₁ + I₂₃⋅W₁₂ + I₂₃⋅W₂₁ + \n",
       "I₂₃⋅W₂₂ + I₂₃⋅W₂₃ + I₂₃⋅W₂₄ + I₂₃⋅W₃₃ + I₂₃⋅W₃₄ + I₂₃⋅W₃₅ + I₂₃⋅W₃₆ + I₂₃⋅W₉ +\n",
       " I₂₄⋅W₁₀ + I₂₄⋅W₁₂ + I₂₄⋅W₂₂ + I₂₄⋅W₂₄ + I₂₄⋅W₃₄ + I₂₄⋅W₃₆ + I₂₅⋅W₁₁ + I₂₅⋅W₂₃\n",
       " + I₂₅⋅W₃₅ + I₂₆⋅W₁₁ + I₂₆⋅W₁₂ + I₂₆⋅W₂₃ + I₂₆⋅W₂₄ + I₂₆⋅W₃₅ + I₂₆⋅W₃₆ + I₂₇⋅W\n",
       "₁₂ + I₂₇⋅W₂₄ + I₂₇⋅W₃₆ + I₃⋅W₁₄ + I₃⋅W₂ + I₃⋅W₂₆ + I₄⋅W₁ + I₄⋅W₁₃ + I₄⋅W₁₅ + I\n",
       "₄⋅W₂₅ + I₄⋅W₂₇ + I₄⋅W₃ + I₅⋅W₁ + I₅⋅W₁₃ + I₅⋅W₁₄ + I₅⋅W₁₅ + I₅⋅W₁₆ + I₅⋅W₂ + I\n",
       "₅⋅W₂₅ + I₅⋅W₂₆ + I₅⋅W₂₇ + I₅⋅W₂₈ + I₅⋅W₃ + I₅⋅W₄ + I₆⋅W₁₄ + I₆⋅W₁₆ + I₆⋅W₂ + I\n",
       "₆⋅W₂₆ + I₆⋅W₂₈ + I₆⋅W₄ + I₇⋅W₁₅ + I₇⋅W₂₇ + I₇⋅W₃ + I₈⋅W₁₅ + I₈⋅W₁₆ + I₈⋅W₂₇ + \n",
       "I₈⋅W₂₈ + I₈⋅W₃ + I₈⋅W₄ + I₉⋅W₁₆ + I₉⋅W₂₈ + I₉⋅W₄"
      ]
     },
     "execution_count": 15,
     "metadata": {},
     "output_type": "execute_result"
    }
   ],
   "source": [
    "C"
   ]
  },
  {
   "cell_type": "code",
   "execution_count": 16,
   "metadata": {},
   "outputs": [
    {
     "name": "stdout",
     "output_type": "stream",
     "text": [
      "[[[W_1 + W_13 + W_25, W_1 + W_13 + W_14 + W_2 + W_25 + W_26, W_14 + W_2 + W_26], [W_1 + W_13 + W_15 + W_25 + W_27 + W_3, W_1 + W_13 + W_14 + W_15 + W_16 + W_2 + W_25 + W_26 + W_27 + W_28 + W_3 + W_4, W_14 + W_16 + W_2 + W_26 + W_28 + W_4], [W_15 + W_27 + W_3, W_15 + W_16 + W_27 + W_28 + W_3 + W_4, W_16 + W_28 + W_4]], [[W_17 + W_29 + W_5, W_17 + W_18 + W_29 + W_30 + W_5 + W_6, W_18 + W_30 + W_6], [W_17 + W_19 + W_29 + W_31 + W_5 + W_7, W_17 + W_18 + W_19 + W_20 + W_29 + W_30 + W_31 + W_32 + W_5 + W_6 + W_7 + W_8, W_18 + W_20 + W_30 + W_32 + W_6 + W_8], [W_19 + W_31 + W_7, W_19 + W_20 + W_31 + W_32 + W_7 + W_8, W_20 + W_32 + W_8]], [[W_21 + W_33 + W_9, W_10 + W_21 + W_22 + W_33 + W_34 + W_9, W_10 + W_22 + W_34], [W_11 + W_21 + W_23 + W_33 + W_35 + W_9, W_10 + W_11 + W_12 + W_21 + W_22 + W_23 + W_24 + W_33 + W_34 + W_35 + W_36 + W_9, W_10 + W_12 + W_22 + W_24 + W_34 + W_36], [W_11 + W_23 + W_35, W_11 + W_12 + W_23 + W_24 + W_35 + W_36, W_12 + W_24 + W_36]]]\n"
     ]
    }
   ],
   "source": [
    "print(derive_by_array(C, I_Array))"
   ]
  },
  {
   "cell_type": "code",
   "execution_count": 17,
   "metadata": {},
   "outputs": [
    {
     "name": "stdout",
     "output_type": "stream",
     "text": [
      "[[[[I_1 + I_2 + I_4 + I_5, I_2 + I_3 + I_5 + I_6], [I_4 + I_5 + I_7 + I_8, I_5 + I_6 + I_8 + I_9]], [[I_10 + I_11 + I_13 + I_14, I_11 + I_12 + I_14 + I_15], [I_13 + I_14 + I_16 + I_17, I_14 + I_15 + I_17 + I_18]], [[I_19 + I_20 + I_22 + I_23, I_20 + I_21 + I_23 + I_24], [I_22 + I_23 + I_25 + I_26, I_23 + I_24 + I_26 + I_27]]], [[[I_1 + I_2 + I_4 + I_5, I_2 + I_3 + I_5 + I_6], [I_4 + I_5 + I_7 + I_8, I_5 + I_6 + I_8 + I_9]], [[I_10 + I_11 + I_13 + I_14, I_11 + I_12 + I_14 + I_15], [I_13 + I_14 + I_16 + I_17, I_14 + I_15 + I_17 + I_18]], [[I_19 + I_20 + I_22 + I_23, I_20 + I_21 + I_23 + I_24], [I_22 + I_23 + I_25 + I_26, I_23 + I_24 + I_26 + I_27]]], [[[I_1 + I_2 + I_4 + I_5, I_2 + I_3 + I_5 + I_6], [I_4 + I_5 + I_7 + I_8, I_5 + I_6 + I_8 + I_9]], [[I_10 + I_11 + I_13 + I_14, I_11 + I_12 + I_14 + I_15], [I_13 + I_14 + I_16 + I_17, I_14 + I_15 + I_17 + I_18]], [[I_19 + I_20 + I_22 + I_23, I_20 + I_21 + I_23 + I_24], [I_22 + I_23 + I_25 + I_26, I_23 + I_24 + I_26 + I_27]]]]\n"
     ]
    }
   ],
   "source": [
    "print(derive_by_array(C, W_Array))"
   ]
  },
  {
   "cell_type": "code",
   "execution_count": 18,
   "metadata": {},
   "outputs": [
    {
     "name": "stdout",
     "output_type": "stream",
     "text": [
      "[[4], [4], [4]]\n"
     ]
    }
   ],
   "source": [
    "print(derive_by_array(C, B_Array))"
   ]
  },
  {
   "cell_type": "code",
   "execution_count": 19,
   "metadata": {},
   "outputs": [],
   "source": [
    "E_Array = MutableDenseNDimArray.zeros(N_out, H_out, W_out)\n",
    "for n in range(N_out):\n",
    "    for h in range(H_out):\n",
    "        for w in range(W_out):\n",
    "            E_Array[n, h, w] = 1"
   ]
  },
  {
   "cell_type": "code",
   "execution_count": 20,
   "metadata": {},
   "outputs": [
    {
     "data": {
      "image/png": "[encoded data removed]",
      "text/latex": [
       "$$\\left[\\begin{matrix}\\left[\\begin{matrix}1 & 1\\\\1 & 1\\end{matrix}\\right] & \\left[\\begin{matrix}1 & 1\\\\1 & 1\\end{matrix}\\right] & \\left[\\begin{matrix}1 & 1\\\\1 & 1\\end{matrix}\\right]\\end{matrix}\\right]$$"
      ],
      "text/plain": [
       "⎡⎡1  1⎤  ⎡1  1⎤  ⎡1  1⎤⎤\n",
       "⎢⎢    ⎥  ⎢    ⎥  ⎢    ⎥⎥\n",
       "⎣⎣1  1⎦  ⎣1  1⎦  ⎣1  1⎦⎦"
      ]
     },
     "execution_count": 20,
     "metadata": {},
     "output_type": "execute_result"
    }
   ],
   "source": [
    "E_Array"
   ]
  },
  {
   "cell_type": "code",
   "execution_count": 21,
   "metadata": {},
   "outputs": [],
   "source": [
    "W_Array_flip = W_Array[:, :, ::-1, ::-1]"
   ]
  },
  {
   "cell_type": "code",
   "execution_count": 22,
   "metadata": {},
   "outputs": [
    {
     "data": {
      "image/png": "[encoded data removed]",
      "text/latex": [
       "$$\\left[\\begin{matrix}\\left[\\begin{matrix}W_{4} & W_{3}\\\\W_{2} & W_{1}\\end{matrix}\\right] & \\left[\\begin{matrix}W_{8} & W_{7}\\\\W_{6} & W_{5}\\end{matrix}\\right] & \\left[\\begin{matrix}W_{12} & W_{11}\\\\W_{10} & W_{9}\\end{matrix}\\right]\\\\\\left[\\begin{matrix}W_{16} & W_{15}\\\\W_{14} & W_{13}\\end{matrix}\\right] & \\left[\\begin{matrix}W_{20} & W_{19}\\\\W_{18} & W_{17}\\end{matrix}\\right] & \\left[\\begin{matrix}W_{24} & W_{23}\\\\W_{22} & W_{21}\\end{matrix}\\right]\\\\\\left[\\begin{matrix}W_{28} & W_{27}\\\\W_{26} & W_{25}\\end{matrix}\\right] & \\left[\\begin{matrix}W_{32} & W_{31}\\\\W_{30} & W_{29}\\end{matrix}\\right] & \\left[\\begin{matrix}W_{36} & W_{35}\\\\W_{34} & W_{33}\\end{matrix}\\right]\\end{matrix}\\right]$$"
      ],
      "text/plain": [
       "⎡ ⎡W₄  W₃⎤    ⎡W₈  W₇⎤   ⎡W₁₂  W₁₁⎤⎤\n",
       "⎢ ⎢      ⎥    ⎢      ⎥   ⎢        ⎥⎥\n",
       "⎢ ⎣W₂  W₁⎦    ⎣W₆  W₅⎦   ⎣W₁₀  W₉ ⎦⎥\n",
       "⎢                                  ⎥\n",
       "⎢⎡W₁₆  W₁₅⎤  ⎡W₂₀  W₁₉⎤  ⎡W₂₄  W₂₃⎤⎥\n",
       "⎢⎢        ⎥  ⎢        ⎥  ⎢        ⎥⎥\n",
       "⎢⎣W₁₄  W₁₃⎦  ⎣W₁₈  W₁₇⎦  ⎣W₂₂  W₂₁⎦⎥\n",
       "⎢                                  ⎥\n",
       "⎢⎡W₂₈  W₂₇⎤  ⎡W₃₂  W₃₁⎤  ⎡W₃₆  W₃₅⎤⎥\n",
       "⎢⎢        ⎥  ⎢        ⎥  ⎢        ⎥⎥\n",
       "⎣⎣W₂₆  W₂₅⎦  ⎣W₃₀  W₂₉⎦  ⎣W₃₄  W₃₃⎦⎦"
      ]
     },
     "execution_count": 22,
     "metadata": {},
     "output_type": "execute_result"
    }
   ],
   "source": [
    "W_Array_flip"
   ]
  },
  {
   "cell_type": "code",
   "execution_count": 23,
   "metadata": {},
   "outputs": [],
   "source": [
    "# 实现swapaxes\n",
    "# flip将每一个kernel中翻转，swapaxes将轴旋转\n",
    "W_Array_flip = np.swapaxes(np.array(W_Array_flip).reshape(W_Array_flip.shape), 0, 1)"
   ]
  },
  {
   "cell_type": "code",
   "execution_count": 24,
   "metadata": {},
   "outputs": [],
   "source": [
    "W_Array_flip_col = W_Array_flip.reshape(N_in, N_out*K*K)"
   ]
  },
  {
   "cell_type": "code",
   "execution_count": 25,
   "metadata": {},
   "outputs": [
    {
     "data": {
      "text/plain": [
       "array([[W_4, W_3, W_2, W_1, W_16, W_15, W_14, W_13, W_28, W_27, W_26, W_25],\n",
       "       [W_8, W_7, W_6, W_5, W_20, W_19, W_18, W_17, W_32, W_31, W_30, W_29],\n",
       "       [W_12, W_11, W_10, W_9, W_24, W_23, W_22, W_21, W_36, W_35, W_34,\n",
       "        W_33]], dtype=object)"
      ]
     },
     "execution_count": 25,
     "metadata": {},
     "output_type": "execute_result"
    }
   ],
   "source": [
    "W_Array_flip_col"
   ]
  },
  {
   "cell_type": "code",
   "execution_count": 26,
   "metadata": {
    "collapsed": true
   },
   "outputs": [],
   "source": [
    "E_Array_pad = MutableDenseNDimArray.zeros(N_out, H_out+2*(K-1), W_out+2*(K-1))\n",
    "for n in range(N_out):\n",
    "    for h in range(K-1, H_out+(K-1)):\n",
    "        for w in range(K-1, W_out+(K-1)):\n",
    "            E_Array_pad[n, h, w] = 1"
   ]
  },
  {
   "cell_type": "code",
   "execution_count": 27,
   "metadata": {},
   "outputs": [
    {
     "data": {
      "image/png": "[encoded data removed]",
      "text/latex": [
       "$$\\left[\\begin{matrix}\\left[\\begin{matrix}0 & 0 & 0 & 0\\\\0 & 1 & 1 & 0\\\\0 & 1 & 1 & 0\\\\0 & 0 & 0 & 0\\end{matrix}\\right] & \\left[\\begin{matrix}0 & 0 & 0 & 0\\\\0 & 1 & 1 & 0\\\\0 & 1 & 1 & 0\\\\0 & 0 & 0 & 0\\end{matrix}\\right] & \\left[\\begin{matrix}0 & 0 & 0 & 0\\\\0 & 1 & 1 & 0\\\\0 & 1 & 1 & 0\\\\0 & 0 & 0 & 0\\end{matrix}\\right]\\end{matrix}\\right]$$"
      ],
      "text/plain": [
       "⎡⎡0  0  0  0⎤  ⎡0  0  0  0⎤  ⎡0  0  0  0⎤⎤\n",
       "⎢⎢          ⎥  ⎢          ⎥  ⎢          ⎥⎥\n",
       "⎢⎢0  1  1  0⎥  ⎢0  1  1  0⎥  ⎢0  1  1  0⎥⎥\n",
       "⎢⎢          ⎥  ⎢          ⎥  ⎢          ⎥⎥\n",
       "⎢⎢0  1  1  0⎥  ⎢0  1  1  0⎥  ⎢0  1  1  0⎥⎥\n",
       "⎢⎢          ⎥  ⎢          ⎥  ⎢          ⎥⎥\n",
       "⎣⎣0  0  0  0⎦  ⎣0  0  0  0⎦  ⎣0  0  0  0⎦⎦"
      ]
     },
     "execution_count": 27,
     "metadata": {},
     "output_type": "execute_result"
    }
   ],
   "source": [
    "E_Array_pad"
   ]
  },
  {
   "cell_type": "code",
   "execution_count": 28,
   "metadata": {
    "collapsed": true
   },
   "outputs": [],
   "source": [
    "def im2col(img, kernel_size, stride=1):\n",
    "    \"\"\"\n",
    "    :param img: 输入的图像 C_in H_in W_in\n",
    "    :param kernel_size: 卷积核大小\n",
    "    :param stride: 卷积核间距\n",
    "    :return: img_cols (H*W) * (C*K*K)\n",
    "    \"\"\"\n",
    "    img_channel, img_h, img_w = img.shape\n",
    "    img_cols = None\n",
    "#     print('img_channel', img_channel)\n",
    "#     print('img_h', img_h)\n",
    "#     print('img_w', img_w)\n",
    "    for channel_i in range(img_channel):\n",
    "        # 通道i的图像是 H W\n",
    "        img_channel_i = img[channel_i, :, :]\n",
    "        img_channel_i_cols = []\n",
    "        for h_i in range(0, img_w-kernel_size+1, stride):\n",
    "            for w_i in range(0, img_h-kernel_size+1, stride):\n",
    "                img_channel_i_patch = img_channel_i[h_i:h_i+kernel_size, w_i:w_i+kernel_size]\n",
    "                # print(img_channel_i_patch.shape)\n",
    "                # 小的patch K*K reshape为行向量\n",
    "                img_channel_i_patch_row = img_channel_i_patch.reshape(K*K)\n",
    "                img_channel_i_cols.append(img_channel_i_patch_row)\n",
    "                # print(img_channel_i_patch_row.shape)\n",
    "                assert img_channel_i_patch_row.shape ==  (kernel_size*kernel_size, )\n",
    "        # print('len(img_channel_i_cols):', len(img_channel_i_cols))\n",
    "        img_channel_i_cols = np.array(img_channel_i_cols)\n",
    "        if img_cols is None:\n",
    "            img_cols = img_channel_i_cols\n",
    "        else:\n",
    "            img_cols = np.hstack((img_cols, img_channel_i_cols))\n",
    "\n",
    "    return img_cols"
   ]
  },
  {
   "cell_type": "code",
   "execution_count": 29,
   "metadata": {},
   "outputs": [],
   "source": [
    "E_Array_pad_col = im2col(E_Array_pad, K, 1)"
   ]
  },
  {
   "cell_type": "code",
   "execution_count": 30,
   "metadata": {},
   "outputs": [
    {
     "data": {
      "text/plain": [
       "array([[0, 0, 0, 1, 0, 0, 0, 1, 0, 0, 0, 1],\n",
       "       [0, 0, 1, 1, 0, 0, 1, 1, 0, 0, 1, 1],\n",
       "       [0, 0, 1, 0, 0, 0, 1, 0, 0, 0, 1, 0],\n",
       "       [0, 1, 0, 1, 0, 1, 0, 1, 0, 1, 0, 1],\n",
       "       [1, 1, 1, 1, 1, 1, 1, 1, 1, 1, 1, 1],\n",
       "       [1, 0, 1, 0, 1, 0, 1, 0, 1, 0, 1, 0],\n",
       "       [0, 1, 0, 0, 0, 1, 0, 0, 0, 1, 0, 0],\n",
       "       [1, 1, 0, 0, 1, 1, 0, 0, 1, 1, 0, 0],\n",
       "       [1, 0, 0, 0, 1, 0, 0, 0, 1, 0, 0, 0]], dtype=object)"
      ]
     },
     "execution_count": 30,
     "metadata": {},
     "output_type": "execute_result"
    }
   ],
   "source": [
    "E_Array_pad_col"
   ]
  },
  {
   "cell_type": "code",
   "execution_count": 31,
   "metadata": {},
   "outputs": [
    {
     "name": "stdout",
     "output_type": "stream",
     "text": [
      "[[[W_1 + W_13 + W_25, W_1 + W_13 + W_14 + W_2 + W_25 + W_26, W_14 + W_2 + W_26], [W_1 + W_13 + W_15 + W_25 + W_27 + W_3, W_1 + W_13 + W_14 + W_15 + W_16 + W_2 + W_25 + W_26 + W_27 + W_28 + W_3 + W_4, W_14 + W_16 + W_2 + W_26 + W_28 + W_4], [W_15 + W_27 + W_3, W_15 + W_16 + W_27 + W_28 + W_3 + W_4, W_16 + W_28 + W_4]], [[W_17 + W_29 + W_5, W_17 + W_18 + W_29 + W_30 + W_5 + W_6, W_18 + W_30 + W_6], [W_17 + W_19 + W_29 + W_31 + W_5 + W_7, W_17 + W_18 + W_19 + W_20 + W_29 + W_30 + W_31 + W_32 + W_5 + W_6 + W_7 + W_8, W_18 + W_20 + W_30 + W_32 + W_6 + W_8], [W_19 + W_31 + W_7, W_19 + W_20 + W_31 + W_32 + W_7 + W_8, W_20 + W_32 + W_8]], [[W_21 + W_33 + W_9, W_10 + W_21 + W_22 + W_33 + W_34 + W_9, W_10 + W_22 + W_34], [W_11 + W_21 + W_23 + W_33 + W_35 + W_9, W_10 + W_11 + W_12 + W_21 + W_22 + W_23 + W_24 + W_33 + W_34 + W_35 + W_36 + W_9, W_10 + W_12 + W_22 + W_24 + W_34 + W_36], [W_11 + W_23 + W_35, W_11 + W_12 + W_23 + W_24 + W_35 + W_36, W_12 + W_24 + W_36]]]\n"
     ]
    }
   ],
   "source": [
    "E_next_Array_col = MutableDenseNDimArray.zeros(N_in, H_in*W_in)\n",
    "E_Array_pad_col_transpose = np.transpose(E_Array_pad_col)\n",
    "i_limit = W_Array_flip_col.shape[0]\n",
    "j_limit = E_Array_pad_col_transpose.shape[1]\n",
    "k_limit = W_Array_flip_col.shape[1]\n",
    "# print('i_limit:', i_limit)\n",
    "# print('j_limit:', j_limit)\n",
    "# print('k_limit:', k_limit)\n",
    "for i in range(i_limit):\n",
    "    for j in range(j_limit):\n",
    "        error_next = 0\n",
    "        for k in range(k_limit):\n",
    "            error_next += W_Array_flip_col[i, k]*E_Array_pad_col_transpose[k, j]\n",
    "        E_next_Array_col[i, j] += error_next\n",
    "E_next_Array = E_next_Array_col.reshape(N_in, H_in, W_in)\n",
    "print(E_next_Array)"
   ]
  },
  {
   "cell_type": "code",
   "execution_count": 32,
   "metadata": {},
   "outputs": [
    {
     "data": {
      "text/plain": [
       "array([[0, 0, 0, 0, 1, 1, 0, 1, 1],\n",
       "       [0, 0, 0, 1, 1, 0, 1, 1, 0],\n",
       "       [0, 1, 1, 0, 1, 1, 0, 0, 0],\n",
       "       [1, 1, 0, 1, 1, 0, 0, 0, 0],\n",
       "       [0, 0, 0, 0, 1, 1, 0, 1, 1],\n",
       "       [0, 0, 0, 1, 1, 0, 1, 1, 0],\n",
       "       [0, 1, 1, 0, 1, 1, 0, 0, 0],\n",
       "       [1, 1, 0, 1, 1, 0, 0, 0, 0],\n",
       "       [0, 0, 0, 0, 1, 1, 0, 1, 1],\n",
       "       [0, 0, 0, 1, 1, 0, 1, 1, 0],\n",
       "       [0, 1, 1, 0, 1, 1, 0, 0, 0],\n",
       "       [1, 1, 0, 1, 1, 0, 0, 0, 0]], dtype=object)"
      ]
     },
     "execution_count": 32,
     "metadata": {},
     "output_type": "execute_result"
    }
   ],
   "source": [
    "E_Array_pad_col_transpose"
   ]
  },
  {
   "cell_type": "code",
   "execution_count": 33,
   "metadata": {},
   "outputs": [
    {
     "data": {
      "image/png": "[encoded data removed]",
      "text/latex": [
       "$$\\left ( 12, \\quad 9\\right )$$"
      ],
      "text/plain": [
       "(12, 9)"
      ]
     },
     "execution_count": 33,
     "metadata": {},
     "output_type": "execute_result"
    }
   ],
   "source": [
    "E_Array_pad_col_transpose.shape"
   ]
  },
  {
   "cell_type": "code",
   "execution_count": 34,
   "metadata": {},
   "outputs": [
    {
     "data": {
      "image/png": "[encoded data removed]",
      "text/latex": [
       "$$\\left ( 3, \\quad 12\\right )$$"
      ],
      "text/plain": [
       "(3, 12)"
      ]
     },
     "execution_count": 34,
     "metadata": {},
     "output_type": "execute_result"
    }
   ],
   "source": [
    "W_Array_flip_col.shape"
   ]
  },
  {
   "cell_type": "code",
   "execution_count": null,
   "metadata": {
    "collapsed": true
   },
   "outputs": [],
   "source": []
  }
 ],
 "metadata": {
  "kernelspec": {
   "display_name": "Machine Learning",
   "language": "python",
   "name": "ml"
  },
  "language_info": {
   "codemirror_mode": {
    "name": "ipython",
    "version": 3
   },
   "file_extension": ".py",
   "mimetype": "text/x-python",
   "name": "python",
   "nbconvert_exporter": "python",
   "pygments_lexer": "ipython3",
   "version": "3.6.6"
  }
 },
 "nbformat": 4,
 "nbformat_minor": 2
}
