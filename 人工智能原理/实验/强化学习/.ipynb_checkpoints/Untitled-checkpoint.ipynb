{
 "cells": [
  {
   "cell_type": "code",
   "execution_count": 143,
   "metadata": {},
   "outputs": [],
   "source": [
    "import gym\n",
    "import random\n",
    "import math\n",
    "from IPython import display\n",
    "import matplotlib\n",
    "import matplotlib.pyplot as plt\n",
    "import numpy as np\n",
    "\n",
    "import torch\n",
    "import torch.nn as nn\n",
    "import torch.optim as optim\n",
    "import torch.nn.functional as F\n",
    "import torchvision.transforms as T\n",
    "from torch.autograd import Variable\n",
    "%matplotlib inline"
   ]
  },
  {
   "cell_type": "code",
   "execution_count": 164,
   "metadata": {},
   "outputs": [],
   "source": [
    "device = torch.device(\"cuda\" if torch.cuda.is_available() else \"cpu\")"
   ]
  },
  {
   "cell_type": "code",
   "execution_count": 130,
   "metadata": {},
   "outputs": [
    {
     "data": {
      "image/png": "[encoded data removed]",
      "text/plain": [
       "<Figure size 432x288 with 1 Axes>"
      ]
     },
     "metadata": {
      "needs_background": "light"
     },
     "output_type": "display_data"
    }
   ],
   "source": [
    "env = gym.make('Breakout-v0')\n",
    "env.reset()\n",
    "img = plt.imshow(env.render(mode='rgb_array')) # only call this once\n",
    "for _ in range(100):\n",
    "    img.set_data(env.render(mode='rgb_array')) # just update the data\n",
    "    display.display(plt.gcf())\n",
    "    display.clear_output(wait=True)\n",
    "    action = env.action_space.sample()\n",
    "    env.step(action)\n",
    "env.close()"
   ]
  },
  {
   "cell_type": "code",
   "execution_count": 115,
   "metadata": {},
   "outputs": [],
   "source": [
    "from collections import namedtuple\n",
    "\n",
    "Transition = namedtuple('Transition',\n",
    "                        ('state', 'action', 'next_state', 'reward', 'done'))\n",
    "\n",
    "\n",
    "class ReplayMemory():\n",
    "\n",
    "    def __init__(self, capacity):\n",
    "        self.capacity = capacity\n",
    "        self.memory = []\n",
    "        self.position = 0\n",
    "\n",
    "    def push(self, *args):\n",
    "        \"\"\"Saves a transition.\"\"\"\n",
    "        if len(self.memory) < self.capacity:\n",
    "            self.memory.append(None)\n",
    "        self.memory[self.position] = Transition(*args)\n",
    "        self.position = (self.position + 1) % self.capacity\n",
    "\n",
    "    def sample(self, batch_size):\n",
    "        return random.sample(self.memory, batch_size)\n",
    "\n",
    "    def __len__(self):\n",
    "        return len(self.memory)"
   ]
  },
  {
   "cell_type": "code",
   "execution_count": 156,
   "metadata": {},
   "outputs": [],
   "source": [
    "class DNet(nn.Module):\n",
    "    def __init__(self, nA):\n",
    "        super(DNet, self).__init__()\n",
    "        self.conv1 = nn.Conv2d(1, 32, kernel_size=8, stride=4)\n",
    "        self.bn1 = nn.BatchNorm2d(32)\n",
    "        self.conv2 = nn.Conv2d(32, 64, kernel_size=4, stride=2)\n",
    "        self.bn2 = nn.BatchNorm2d(64)\n",
    "        self.conv3 = nn.Conv2d(64, 64, kernel_size=3, stride=1)\n",
    "        self.bn3 = nn.BatchNorm2d(64)\n",
    "        self.fc1 = nn.Linear(9 * 6 * 64, 512)\n",
    "        self.fc2 = nn.Linear(512, nA)\n",
    "\n",
    "    def forward(self, x):\n",
    "        x = F.relu(self.bn1(self.conv1(x)))  \n",
    "        x = F.relu(self.bn2(self.conv2(x)))  \n",
    "        x = F.relu(self.bn3(self.conv3(x)))  \n",
    "        x = F.relu(self.fc1(x.view(x.size(0), -1)))\n",
    "        return self.fc2(x)"
   ]
  },
  {
   "cell_type": "code",
   "execution_count": 142,
   "metadata": {},
   "outputs": [
    {
     "data": {
      "image/png": "[encoded data removed]",
      "text/plain": [
       "<Figure size 432x288 with 1 Axes>"
      ]
     },
     "metadata": {
      "needs_background": "light"
     },
     "output_type": "display_data"
    },
    {
     "data": {
      "text/plain": [
       "<matplotlib.image.AxesImage at 0x21cae62ad88>"
      ]
     },
     "execution_count": 142,
     "metadata": {},
     "output_type": "execute_result"
    },
    {
     "data": {
      "image/png": "[encoded data removed]",
      "text/plain": [
       "<Figure size 432x288 with 1 Axes>"
      ]
     },
     "metadata": {
      "needs_background": "light"
     },
     "output_type": "display_data"
    }
   ],
   "source": [
    "pre_process = T.Compose([\n",
    "    T.ToPILImage(),\n",
    "    T.Grayscale(),\n",
    "    T.ToTensor()\n",
    "])\n",
    "\n",
    "def get_screen():\n",
    "    screen = env.render(mode='rgb_array').transpose(2, 0, 1)\n",
    "    _, screen_height, screen_width = screen.shape\n",
    "    screen = screen[:, ::2, ::2]\n",
    "    screen = np.ascontiguousarray(screen, dtype=np.float32) / 255\n",
    "    screen = torch.from_numpy(screen)\n",
    "    screen = pre_process(screen).unsqueeze(0).to(device)\n",
    "    return screen\n",
    "\n",
    "env.reset()\n",
    "plt.figure()\n",
    "plt.imshow(get_screen().cpu().squeeze().numpy())\n",
    "plt.title('Example extracted screen')\n",
    "plt.show()"
   ]
  },
  {
   "cell_type": "code",
   "execution_count": 169,
   "metadata": {},
   "outputs": [],
   "source": [
    "EPISODES = 1000\n",
    "GAMMA = 0.99\n",
    "EPS_START = 0.9\n",
    "EPS_END = 0.05\n",
    "EPS_DECAY = 200\n",
    "MEMORY_CAPACITY = 10000\n",
    "TARGET_UPDATE = 10\n",
    "LEARN_FREQ = 4\n",
    "BATCH_SIZE = 64\n",
    "device = torch.device(\"cuda\" if torch.cuda.is_available() else \"cpu\")\n",
    "\n",
    "class DQN():\n",
    "    def __init__(self, env): \n",
    "        self.env = env\n",
    "        self.n_action = self.env.action_space.n\n",
    "        self.mem = ReplayMemory(MEMORY_CAPACITY)\n",
    "        \n",
    "        self.step = 0\n",
    "\n",
    "        self.policy_net = DNet(self.n_action).to(device)\n",
    "        self.target_net = DNet(self.n_action).to(device)\n",
    "        self.target_net.load_state_dict(self.policy_net.state_dict())\n",
    "        \n",
    "        self.optimizer = optim.RMSprop(self.policy_net.parameters(),\n",
    "    lr=0.00025, eps=0.01, alpha=0.95)\n",
    "        \n",
    "        self.loss_func = nn.SmoothL1Loss()\n",
    "        \n",
    "    def choose_action(self, state):  \n",
    "        eps_threshold = EPS_END + (EPS_START - EPS_END) * math.exp(-1. * self.step / EPS_DECAY)\n",
    "        if np.random.uniform() > eps_threshold:\n",
    "            with torch.no_grad():\n",
    "                q, action = self.policy_net(Variable(state.to(device))).data.cpu().max(1)\n",
    "        else:\n",
    "            action = np.random.randint(0, self.n_action)\n",
    "        \n",
    "        return action\n",
    "    \n",
    "    def optimize_model(self):\n",
    "        if len(self.mem) < BATCH_SIZE:\n",
    "            return\n",
    "        transitions = self.mem.sample(BATCH_SIZE)\n",
    "        \n",
    "        batch = Transition(*zip(*transitions))\n",
    "    \n",
    "        state_batch = torch.cat(batch.state).to(device)\n",
    "        action_batch = torch.cat(batch.action).to(device)\n",
    "        reward_batch = torch.cat(batch.reward).to(device)\n",
    "        next_state_batch = torch.cat(batch.next_state).to(device)\n",
    "        done_batch = torch.cat(batch.done).to(device)\n",
    "        \n",
    "        state_q_values = self.policy_net(state_batch).gather(1, action_batch.unsqueeze(1)).squeeze(1)\n",
    "        \n",
    "        next_state_q_values = self.target_net(next_state_batch).detach().max(1)[0]\n",
    "        \n",
    "        expected_state_action_values = next_state_q_values * GAMMA * (1 - done_batch)\n",
    "        \n",
    "        loss = self.loss_func(state_q_values, reward_batch + expected_state_action_values)\n",
    "        \n",
    "        self.optimizer.zero_grad()\n",
    "        loss.backward()\n",
    "        self.optimizer.step()\n",
    "        \n",
    "#         print(\"loss:\", loss)\n",
    "        \n",
    "    def train(self):\n",
    "        img = plt.imshow(env.render(mode='rgb_array')) # only call this once\n",
    "        for e in range(EPISODES):\n",
    "            self.env.reset()\n",
    "            done = False\n",
    "            while not done:\n",
    "                if self.step % LEARN_FREQ == 0:\n",
    "                    self.optimize_model()\n",
    "                if self.step % TARGET_UPDATE == 0:\n",
    "                    self.target_net.load_state_dict(self.policy_net.state_dict())\n",
    "                self.step += 1\n",
    "                \n",
    "                state = get_screen()\n",
    "                \n",
    "                action = self.choose_action(state)\n",
    "                _, reward, done, _ = env.step(action)\n",
    "                \n",
    "                next_state = get_screen()\n",
    "                \n",
    "                self.mem.push(state, torch.LongTensor([action]), \n",
    "                              next_state, torch.Tensor([reward]), torch.Tensor([done]))\n",
    "                \n",
    "                \n",
    "                img.set_data(self.env.render(mode='rgb_array')) # just update the data\n",
    "                display.display(plt.gcf())\n",
    "                display.clear_output(wait=True)\n",
    "            print(self.step)"
   ]
  },
  {
   "cell_type": "code",
   "execution_count": null,
   "metadata": {},
   "outputs": [
    {
     "data": {
      "image/png": "[encoded data removed]",
      "text/plain": [
       "<Figure size 432x288 with 1 Axes>"
      ]
     },
     "metadata": {},
     "output_type": "display_data"
    }
   ],
   "source": [
    "dqn = DQN(env)\n",
    "dqn.train()"
   ]
  }
 ],
 "metadata": {
  "kernelspec": {
   "display_name": "Python 3",
   "language": "python",
   "name": "python3"
  },
  "language_info": {
   "codemirror_mode": {
    "name": "ipython",
    "version": 3
   },
   "file_extension": ".py",
   "mimetype": "text/x-python",
   "name": "python",
   "nbconvert_exporter": "python",
   "pygments_lexer": "ipython3",
   "version": "3.7.4"
  }
 },
 "nbformat": 4,
 "nbformat_minor": 4
}
