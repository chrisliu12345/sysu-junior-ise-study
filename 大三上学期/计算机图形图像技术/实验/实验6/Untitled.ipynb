{
 "cells": [
  {
   "cell_type": "code",
   "execution_count": 1,
   "metadata": {},
   "outputs": [],
   "source": [
    "from PIL import Image\n",
    "import os\n",
    "import json\n",
    "from matplotlib import pyplot as plt\n",
    "%matplotlib inline"
   ]
  },
  {
   "cell_type": "code",
   "execution_count": 6,
   "metadata": {},
   "outputs": [],
   "source": [
    "with open('./3.json', 'r') as f:\n",
    "    data = json.load(f)"
   ]
  },
  {
   "cell_type": "code",
   "execution_count": 11,
   "metadata": {},
   "outputs": [],
   "source": [
    "vehicletype = {0 : 'Person', \n",
    "               1 : 'Car',\n",
    "               2 : 'Bus',\n",
    "               3 : 'Truck',\n",
    "               4 : 'Microbus',\n",
    "               5 : 'Taxi',\n",
    "               6 : 'Bicycle',\n",
    "               7 : 'Electronmbile',\n",
    "               8 : 'Motorcycle',\n",
    "               9 : 'Dangerouscar',\n",
    "               10 : 'Bigtruck',\n",
    "               11 : 'Trailer',\n",
    "               12 : 'Tractor'}"
   ]
  },
  {
   "cell_type": "code",
   "execution_count": 24,
   "metadata": {},
   "outputs": [],
   "source": [
    "for _, value in vehicletype.items():\n",
    "    path = './image/' + value\n",
    "    folder = os.path.exists(path)\n",
    "    if not folder:\n",
    "        os.makedirs(path)"
   ]
  },
  {
   "cell_type": "code",
   "execution_count": 26,
   "metadata": {},
   "outputs": [],
   "source": [
    "for key, value in data.items():\n",
    "    filename = value['filename']\n",
    "    regions = value['regions']\n",
    "    img = Image.open ('./3/' + filename)\n",
    "    region_id = 0\n",
    "    for region in regions:\n",
    "        rect = region['shape_attributes']\n",
    "        vehicle_type = vehicletype[int(region['region_attributes']['vehicle_type'])]\n",
    "        region = img.crop((rect['x'], rect['y'], rect['x'] + rect['width'], rect['y'] + rect['height']))\n",
    "        save_path = './image/' + vehicle_type + '/' + filename + '-' + str(region_id) + '-' + vehicle_type + '.jpg'\n",
    "        region.save(save_path)\n",
    "        region_id += 1"
   ]
  }
 ],
 "metadata": {
  "kernelspec": {
   "display_name": "Python 3",
   "language": "python",
   "name": "python3"
  },
  "language_info": {
   "codemirror_mode": {
    "name": "ipython",
    "version": 3
   },
   "file_extension": ".py",
   "mimetype": "text/x-python",
   "name": "python",
   "nbconvert_exporter": "python",
   "pygments_lexer": "ipython3",
   "version": "3.7.4"
  }
 },
 "nbformat": 4,
 "nbformat_minor": 4
}
