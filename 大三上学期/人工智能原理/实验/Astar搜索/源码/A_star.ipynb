{
 "cells": [
  {
   "cell_type": "code",
   "execution_count": 1,
   "metadata": {},
   "outputs": [],
   "source": [
    "import sys"
   ]
  },
  {
   "cell_type": "code",
   "execution_count": 2,
   "metadata": {},
   "outputs": [],
   "source": [
    "GRAPH = {\\\n",
    "    'Arad': {'Sibiu': 140, 'Zerind': 75, 'Timisoara': 118},\\\n",
    "    'Zerind': {'Arad': 75, 'Oradea': 71},\\\n",
    "    'Oradea': {'Zerind': 71, 'Sibiu': 151},\\\n",
    "    'Sibiu': {'Arad': 140, 'Oradea': 151, 'Fagaras': 99, 'Rimnicu': 80},\\\n",
    "    'Timisoara': {'Arad': 118, 'Lugoj': 111},\\\n",
    "    'Lugoj': {'Timisoara': 111, 'Mehadia': 70},\\\n",
    "    'Mehadia': {'Lugoj': 70, 'Drobeta': 75},\\\n",
    "    'Drobeta': {'Mehadia': 75, 'Craiova': 120},\\\n",
    "    'Craiova': {'Drobeta': 120, 'Rimnicu': 146, 'Pitesti': 138},\\\n",
    "    'Rimnicu': {'Sibiu': 80, 'Craiova': 146, 'Pitesti': 97},\\\n",
    "    'Fagaras': {'Sibiu': 99, 'Bucharest': 211},\\\n",
    "    'Pitesti': {'Rimnicu': 97, 'Craiova': 138, 'Bucharest': 101},\\\n",
    "    'Bucharest': {'Fagaras': 211, 'Pitesti': 101, 'Giurgiu': 90, 'Urziceni': 85},\\\n",
    "    'Giurgiu': {'Bucharest': 90},\\\n",
    "    'Urziceni': {'Bucharest': 85, 'Vaslui': 142, 'Hirsova': 98},\\\n",
    "    'Hirsova': {'Urziceni': 98, 'Eforie': 86},\\\n",
    "    'Eforie': {'Hirsova': 86},\\\n",
    "    'Vaslui': {'Iasi': 92, 'Urziceni': 142},\\\n",
    "    'Iasi': {'Vaslui': 92, 'Neamt': 87},\\\n",
    "    'Neamt': {'Iasi': 87}\\\n",
    "}"
   ]
  },
  {
   "cell_type": "code",
   "execution_count": 3,
   "metadata": {},
   "outputs": [],
   "source": [
    "straight_line = {\\\n",
    "    'Arad': 366,\\\n",
    "    'Zerind': 374,\\\n",
    "    'Oradea': 380,\\\n",
    "    'Sibiu': 253,\\\n",
    "    'Timisoara': 329,\\\n",
    "    'Lugoj': 244,\\\n",
    "    'Mehadia': 241,\\\n",
    "    'Drobeta': 242,\\\n",
    "    'Craiova': 160,\\\n",
    "    'Rimnicu': 193,\\\n",
    "    'Fagaras': 176,\\\n",
    "    'Pitesti': 100,\\\n",
    "    'Bucharest': 0,\\\n",
    "    'Giurgiu': 77,\\\n",
    "    'Urziceni': 80,\\\n",
    "    'Hirsova': 151,\\\n",
    "    'Eforie': 161,\\\n",
    "    'Vaslui': 199,\\\n",
    "    'Iasi': 226,\\\n",
    "    'Neamt': 234\\\n",
    "}"
   ]
  },
  {
   "cell_type": "code",
   "execution_count": 4,
   "metadata": {},
   "outputs": [],
   "source": [
    "Dijkstra = {\\\n",
    "    'Arad': 0,\\\n",
    "    'Zerind': 0,\\\n",
    "    'Oradea': 0,\\\n",
    "    'Sibiu': 0,\\\n",
    "    'Timisoara': 0,\\\n",
    "    'Lugoj': 0,\\\n",
    "    'Mehadia': 0,\\\n",
    "    'Drobeta': 0,\\\n",
    "    'Craiova': 0,\\\n",
    "    'Rimnicu': 0,\\\n",
    "    'Fagaras': 0,\\\n",
    "    'Pitesti': 0,\\\n",
    "    'Bucharest': 0,\\\n",
    "    'Giurgiu': 0,\\\n",
    "    'Urziceni': 0,\\\n",
    "    'Hirsova': 0,\\\n",
    "    'Eforie': 0,\\\n",
    "    'Vaslui': 0,\\\n",
    "    'Iasi': 0,\\\n",
    "    'Neamt': 0\\\n",
    "}"
   ]
  },
  {
   "cell_type": "code",
   "execution_count": 37,
   "metadata": {},
   "outputs": [],
   "source": [
    "class A_star:\n",
    "    def __init__(self, graph, h_cost):\n",
    "        self.graph = graph\n",
    "        self.opened = {}\n",
    "        self.closed = set()\n",
    "        self.h_cost = h_cost\n",
    "    \n",
    "    def HeuristicCost(self):\n",
    "        pass\n",
    "    \n",
    "    def find(self, start, end):\n",
    "        self.path = []\n",
    "        self.search_path = []\n",
    "        self.opened[start] = Node(start, None, 0, 0)\n",
    "        while len(self.opened):\n",
    "            best = self.get_best()\n",
    "            self.search_path.append(best)\n",
    "            #最优点为终点\n",
    "            if best.name == end:\n",
    "                self.print_path(best)\n",
    "                return\n",
    "            \n",
    "            self.closed.add(best)\n",
    "            self.opened.pop(best.name)\n",
    "            \n",
    "            self.get_neighboor(best)\n",
    "            \n",
    "    def get_neighboor(self, node):\n",
    "        neighboors = self.graph[node.name]\n",
    "        for key, value in neighboors.items():\n",
    "            if key in self.closed:\n",
    "                continue\n",
    "                    \n",
    "            self.opened[key] = Node(key, node, value+node.g_cost, self.h_cost[key])\n",
    "            \n",
    "            \n",
    "    def get_best(self):\n",
    "        best = None\n",
    "        f_cost = sys.maxsize\n",
    "        for key, value in self.opened.items():\n",
    "            if value.f_cost < f_cost:\n",
    "                best = value\n",
    "                f_cost = value.f_cost\n",
    "        \n",
    "        return best\n",
    "    \n",
    "    def print_path(self, node):\n",
    "        self.path.append(node)\n",
    "        while node:\n",
    "            self.path.append(node.parent)\n",
    "            node = node.parent\n",
    "        self.path.reverse()\n",
    "        del self.path[0] #去掉None\n",
    "        \n",
    "        for p in self.path:\n",
    "            print(p.name)\n",
    "            \n",
    "    def print_search_path(self):\n",
    "        for p in self.search_path:\n",
    "            print(p.name)\n",
    "            \n",
    "        \n",
    "class Node:\n",
    "    def __init__(self, name, parent, g_cost, h_cost):\n",
    "        self.name = name\n",
    "        self.parent = parent\n",
    "        self.g_cost = g_cost\n",
    "        self.h_cost = h_cost\n",
    "        self.f_cost = g_cost + h_cost"
   ]
  },
  {
   "cell_type": "code",
   "execution_count": 38,
   "metadata": {},
   "outputs": [],
   "source": [
    "a_star = A_star(GRAPH, straight_line)"
   ]
  },
  {
   "cell_type": "code",
   "execution_count": 39,
   "metadata": {},
   "outputs": [
    {
     "name": "stdout",
     "output_type": "stream",
     "text": [
      "Arad\n",
      "Sibiu\n",
      "Rimnicu\n",
      "Pitesti\n",
      "Bucharest\n"
     ]
    }
   ],
   "source": [
    "a_star.find('Arad', 'Bucharest')"
   ]
  },
  {
   "cell_type": "code",
   "execution_count": 30,
   "metadata": {},
   "outputs": [
    {
     "name": "stdout",
     "output_type": "stream",
     "text": [
      "27.5 µs ± 929 ns per loop (mean ± std. dev. of 7 runs, 10000 loops each)\n"
     ]
    }
   ],
   "source": [
    "%timeit a_star.find('Arad', 'Bucharest')"
   ]
  },
  {
   "cell_type": "code",
   "execution_count": 40,
   "metadata": {},
   "outputs": [
    {
     "name": "stdout",
     "output_type": "stream",
     "text": [
      "Arad\n",
      "Sibiu\n",
      "Rimnicu\n",
      "Fagaras\n",
      "Pitesti\n",
      "Bucharest\n"
     ]
    }
   ],
   "source": [
    "a_star.print_search_path()"
   ]
  },
  {
   "cell_type": "code",
   "execution_count": 41,
   "metadata": {},
   "outputs": [],
   "source": [
    "dijkstra = A_star(GRAPH,Dijkstra)"
   ]
  },
  {
   "cell_type": "code",
   "execution_count": 42,
   "metadata": {},
   "outputs": [
    {
     "name": "stdout",
     "output_type": "stream",
     "text": [
      "Arad\n",
      "Sibiu\n",
      "Rimnicu\n",
      "Pitesti\n",
      "Bucharest\n"
     ]
    }
   ],
   "source": [
    "dijkstra.find('Arad','Bucharest')"
   ]
  },
  {
   "cell_type": "code",
   "execution_count": 34,
   "metadata": {},
   "outputs": [
    {
     "name": "stdout",
     "output_type": "stream",
     "text": [
      "73.2 µs ± 1.5 µs per loop (mean ± std. dev. of 7 runs, 10000 loops each)\n"
     ]
    }
   ],
   "source": [
    "%timeit dijkstra.find('Arad', 'Bucharest')"
   ]
  },
  {
   "cell_type": "code",
   "execution_count": 43,
   "metadata": {},
   "outputs": [
    {
     "name": "stdout",
     "output_type": "stream",
     "text": [
      "Arad\n",
      "Zerind\n",
      "Timisoara\n",
      "Sibiu\n",
      "Rimnicu\n",
      "Lugoj\n",
      "Fagaras\n",
      "Arad\n",
      "Oradea\n",
      "Mehadia\n",
      "Pitesti\n",
      "Zerind\n",
      "Lugoj\n",
      "Drobeta\n",
      "Rimnicu\n",
      "Bucharest\n"
     ]
    }
   ],
   "source": [
    "dijkstra.print_search_path()"
   ]
  }
 ],
 "metadata": {
  "kernelspec": {
   "display_name": "Python 3",
   "language": "python",
   "name": "python3"
  },
  "language_info": {
   "codemirror_mode": {
    "name": "ipython",
    "version": 3
   },
   "file_extension": ".py",
   "mimetype": "text/x-python",
   "name": "python",
   "nbconvert_exporter": "python",
   "pygments_lexer": "ipython3",
   "version": "3.6.6"
  }
 },
 "nbformat": 4,
 "nbformat_minor": 4
}
